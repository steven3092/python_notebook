{
 "cells": [
  {
   "cell_type": "markdown",
   "metadata": {
    "nbpresent": {
     "id": "0803290c-25cf-4a6b-9f8b-e18457739016"
    }
   },
   "source": [
    "# Obtenir de l'aide"
   ]
  },
  {
   "cell_type": "markdown",
   "metadata": {},
   "source": [
    "L'aide en Python est toujours disponible directement dans l'interpréteur. Si vous voulez savoir comment un objet fonctionne, vous n'avez qu'à appeler help (<object>)! dir () est aussi utile et montre toutes les méthodes de l'objet, <object> .__ doc__, présente de la documentation:"
   ]
  },
  {
   "cell_type": "markdown",
   "metadata": {
    "collapsed": false,
    "nbpresent": {
     "id": "f73b15c5-7ab1-4b4b-8f40-0c38989ff963"
    }
   },
   "source": [
    "help(5)"
   ]
  },
  {
   "cell_type": "code",
   "execution_count": 12,
   "metadata": {
    "collapsed": false,
    "nbpresent": {
     "id": "4944af5c-cf85-4b0e-9b1a-c459a0c8216b"
    }
   },
   "outputs": [
    {
     "data": {
      "text/plain": [
       "['__abs__',\n",
       " '__add__',\n",
       " '__and__',\n",
       " '__bool__',\n",
       " '__ceil__',\n",
       " '__class__',\n",
       " '__delattr__',\n",
       " '__dir__',\n",
       " '__divmod__',\n",
       " '__doc__',\n",
       " '__eq__',\n",
       " '__float__',\n",
       " '__floor__',\n",
       " '__floordiv__',\n",
       " '__format__',\n",
       " '__ge__',\n",
       " '__getattribute__',\n",
       " '__getnewargs__',\n",
       " '__gt__',\n",
       " '__hash__',\n",
       " '__index__',\n",
       " '__init__',\n",
       " '__int__',\n",
       " '__invert__',\n",
       " '__le__',\n",
       " '__lshift__',\n",
       " '__lt__',\n",
       " '__mod__',\n",
       " '__mul__',\n",
       " '__ne__',\n",
       " '__neg__',\n",
       " '__new__',\n",
       " '__or__',\n",
       " '__pos__',\n",
       " '__pow__',\n",
       " '__radd__',\n",
       " '__rand__',\n",
       " '__rdivmod__',\n",
       " '__reduce__',\n",
       " '__reduce_ex__',\n",
       " '__repr__',\n",
       " '__rfloordiv__',\n",
       " '__rlshift__',\n",
       " '__rmod__',\n",
       " '__rmul__',\n",
       " '__ror__',\n",
       " '__round__',\n",
       " '__rpow__',\n",
       " '__rrshift__',\n",
       " '__rshift__',\n",
       " '__rsub__',\n",
       " '__rtruediv__',\n",
       " '__rxor__',\n",
       " '__setattr__',\n",
       " '__sizeof__',\n",
       " '__str__',\n",
       " '__sub__',\n",
       " '__subclasshook__',\n",
       " '__truediv__',\n",
       " '__trunc__',\n",
       " '__xor__',\n",
       " 'bit_length',\n",
       " 'conjugate',\n",
       " 'denominator',\n",
       " 'from_bytes',\n",
       " 'imag',\n",
       " 'numerator',\n",
       " 'real',\n",
       " 'to_bytes']"
      ]
     },
     "execution_count": 12,
     "metadata": {},
     "output_type": "execute_result"
    }
   ],
   "source": [
    "dir(5)"
   ]
  },
  {
   "cell_type": "code",
   "execution_count": 13,
   "metadata": {
    "collapsed": false,
    "nbpresent": {
     "id": "24454d22-e267-4a30-8faa-d773c6b6b775"
    }
   },
   "outputs": [
    {
     "data": {
      "text/plain": [
       "'Return the absolute value of the argument.'"
      ]
     },
     "execution_count": 13,
     "metadata": {},
     "output_type": "execute_result"
    }
   ],
   "source": [
    "abs.__doc__"
   ]
  },
  {
   "cell_type": "markdown",
   "metadata": {
    "nbpresent": {
     "id": "1481ba6d-6114-4dc5-bdd8-c2cb372b060f"
    }
   },
   "source": [
    "# Syntaxe"
   ]
  },
  {
   "cell_type": "markdown",
   "metadata": {},
   "source": [
    "Python n'a pas de caractères obligatoires de terminaison d'instruction et les blocs sont spécifiés par indentation. \"Indent\" pour commencer un bloc, \"dedent\" à la fin de ce dernier. Les instructions qui attendent un niveau d'indentation se terminent en deux points (:). Les commentaires commencent par le signe pound (#) et sont des lignes simples et multi-lignes qui sont utilisées pour les commentaires multilignes. Les valeurs sont assignées (en fait, les objets sont liés à des noms) avec le signe égal (\"=\"), et le test d'égalité est fait en utilisant deux signes égaux (\"==\"). Vous pouvez incrémenter / décrémenter les valeurs en utilisant les opérateurs + = et - = respectivement par la valeur de droite. Cela fonctionne sur de nombreux types de données, chaînes incluses. Vous pouvez également utiliser plusieurs variables sur une seule ligne. Par exemple:"
   ]
  },
  {
   "cell_type": "code",
   "execution_count": 14,
   "metadata": {
    "collapsed": true,
    "nbpresent": {
     "id": "100d35fe-27f3-4b68-a0d2-528b35b41564"
    }
   },
   "outputs": [],
   "source": [
    "myvar = 3"
   ]
  },
  {
   "cell_type": "code",
   "execution_count": 15,
   "metadata": {
    "collapsed": true,
    "nbpresent": {
     "id": "300a3385-501d-4e41-a1fd-bf1e93d6bbfe"
    }
   },
   "outputs": [],
   "source": [
    "myvar += 2"
   ]
  },
  {
   "cell_type": "code",
   "execution_count": 16,
   "metadata": {
    "collapsed": false,
    "nbpresent": {
     "id": "deb8fade-0566-465d-a2dc-751c5f77554b"
    }
   },
   "outputs": [
    {
     "data": {
      "text/plain": [
       "5"
      ]
     },
     "execution_count": 16,
     "metadata": {},
     "output_type": "execute_result"
    }
   ],
   "source": [
    "myvar"
   ]
  },
  {
   "cell_type": "code",
   "execution_count": 17,
   "metadata": {
    "collapsed": true,
    "nbpresent": {
     "id": "f3c95ae2-d215-4ff5-af59-ddd4b9e78a49"
    }
   },
   "outputs": [],
   "source": [
    "myvar -= 1"
   ]
  },
  {
   "cell_type": "code",
   "execution_count": 18,
   "metadata": {
    "collapsed": false,
    "nbpresent": {
     "id": "87a99b30-5287-4d45-99ac-eae526ca1073"
    }
   },
   "outputs": [
    {
     "data": {
      "text/plain": [
       "4"
      ]
     },
     "execution_count": 18,
     "metadata": {},
     "output_type": "execute_result"
    }
   ],
   "source": [
    "myvar"
   ]
  },
  {
   "cell_type": "code",
   "execution_count": 19,
   "metadata": {
    "collapsed": false,
    "nbpresent": {
     "id": "d2480cb7-8cc1-4801-81bd-ef28dfc53e86"
    }
   },
   "outputs": [
    {
     "name": "stdout",
     "output_type": "stream",
     "text": [
      "Hello world.\n"
     ]
    }
   ],
   "source": [
    "\"\" \"Ceci est un commentaire multiligne. Les lignes suivantes concatènent les deux chaînes. \"\" \"\n",
    "\n",
    "mystring = \"Hello\"\n",
    "mystring += \" world.\"\n",
    "print (mystring)"
   ]
  },
  {
   "cell_type": "code",
   "execution_count": 20,
   "metadata": {
    "collapsed": true,
    "nbpresent": {
     "id": "d64d945e-0a76-4500-a585-4f82487ed60a"
    }
   },
   "outputs": [],
   "source": [
    "# Ceci permute les variables dans une ligne (!).\n",
    "# Il ne viole pas le fort typage car les valeurs ne sont pas affectés,\n",
    "# mais les nouveaux objets sont liés aux anciens noms.\n",
    "myvar, mystring = mystring, myvar"
   ]
  },
  {
   "cell_type": "markdown",
   "metadata": {
    "nbpresent": {
     "id": "1cbdc958-1718-4851-800f-8fbd45da349e"
    }
   },
   "source": [
    "# Les types de données"
   ]
  },
  {
   "cell_type": "markdown",
   "metadata": {},
   "source": [
    "Les structures de données disponibles en python sont des listes, des tuples et des dictionnaires. Les ensembles sont disponibles dans la bibliothèque des ensembles (mais sont intégrés dans Python 2.5 et versions ultérieures). Les listes sont comme des tableaux unidimensionnels (mais vous pouvez également avoir des listes d'autres listes), les dictionnaires sont des tableaux associatifs (tables de hachage aka) et les tuples sont des tableaux unidimensionnels immuables (les \"tableaux\" Python peuvent être de tout type, donc vous pouvez mélanger, par exemple, entiers, chaînes, etc dans les listes / dictionnaires / tuples). L'index du premier élément dans tous les types de tableau est 0. Les nombres négatifs comptent de la fin vers le début, -1 est le dernier élément. Les variables peuvent pointer vers des fonctions. L'utilisation est la suivante:"
   ]
  },
  {
   "cell_type": "code",
   "execution_count": 21,
   "metadata": {
    "collapsed": true,
    "nbpresent": {
     "id": "2259fd80-18e5-4992-92f8-16fc9c42aade"
    }
   },
   "outputs": [],
   "source": [
    "sample = [1, [\"another\", \"list\"], (\"a\", \"tuple\")]"
   ]
  },
  {
   "cell_type": "code",
   "execution_count": 22,
   "metadata": {
    "collapsed": true,
    "nbpresent": {
     "id": "eaf4c539-500b-4dbd-a4d7-6d235e07864c"
    }
   },
   "outputs": [],
   "source": [
    "mylist = [\"List item 1\", 2, 3.14]"
   ]
  },
  {
   "cell_type": "code",
   "execution_count": 23,
   "metadata": {
    "collapsed": true,
    "nbpresent": {
     "id": "532ed218-9f51-447a-a7b1-c7e50063ca13"
    }
   },
   "outputs": [],
   "source": [
    "mylist[0] = \"List item 1 again\" # Nous changeons l'item."
   ]
  },
  {
   "cell_type": "code",
   "execution_count": 24,
   "metadata": {
    "collapsed": true,
    "nbpresent": {
     "id": "3500f8c8-a0a5-43ad-9ca8-13506e51b4b6"
    }
   },
   "outputs": [],
   "source": [
    "mylist[-1] = 3.21 # Ici, on se réfère à la dernière item."
   ]
  },
  {
   "cell_type": "code",
   "execution_count": 25,
   "metadata": {
    "collapsed": true,
    "nbpresent": {
     "id": "704a347f-cf7a-41e6-ba83-bee1b5a548d3"
    }
   },
   "outputs": [],
   "source": [
    "mydict = {\"Key 1\": \"Value 1\", 2: 3, \"pi\": 3.14}"
   ]
  },
  {
   "cell_type": "code",
   "execution_count": 26,
   "metadata": {
    "collapsed": true,
    "nbpresent": {
     "id": "d56697f9-2e4b-45ee-ab64-a6b13c1590ec"
    }
   },
   "outputs": [],
   "source": [
    "mydict[\"pi\"] = 3.15 # C'est ainsi que vous modifiez les valeurs du dictionnaire."
   ]
  },
  {
   "cell_type": "code",
   "execution_count": 27,
   "metadata": {
    "collapsed": true,
    "nbpresent": {
     "id": "a47b917f-c393-4602-990a-3ad49a261993"
    }
   },
   "outputs": [],
   "source": [
    "mytuple = (1, 2, 3)"
   ]
  },
  {
   "cell_type": "code",
   "execution_count": 28,
   "metadata": {
    "collapsed": false,
    "nbpresent": {
     "id": "5a099f09-d692-413a-877c-78ff27bacdd3"
    }
   },
   "outputs": [
    {
     "name": "stdout",
     "output_type": "stream",
     "text": [
      "3\n"
     ]
    }
   ],
   "source": [
    "myfunction = len\n",
    "print(myfunction(mylist))"
   ]
  },
  {
   "cell_type": "markdown",
   "metadata": {
    "nbpresent": {
     "id": "f307baf3-b00c-45bc-8e47-b2a1205ca063"
    }
   },
   "source": [
    "Vous pouvez accéder aux plages de tableau à l'aide de deux points (:). Laisser l'index de départ vide suppose le premier élément, laissant l'index final suppose le dernier élément. Les indices négatifs comptent à partir du dernier élément vers l'arrière (donc -1 est le dernier élément) comme suit:"
   ]
  },
  {
   "cell_type": "code",
   "execution_count": 29,
   "metadata": {
    "collapsed": true,
    "nbpresent": {
     "id": "ca2b5bed-6e25-43b1-a5c3-77fad0b8b9d8"
    }
   },
   "outputs": [],
   "source": [
    "mylist = [\"List item 1\", 2, 3.14, 5,12]"
   ]
  },
  {
   "cell_type": "code",
   "execution_count": 30,
   "metadata": {
    "collapsed": false,
    "nbpresent": {
     "id": "ade11ee5-b636-4cfe-9f11-bb6b4e1b2e64"
    }
   },
   "outputs": [
    {
     "name": "stdout",
     "output_type": "stream",
     "text": [
      "['List item 1', 2, 3.14, 5, 12]\n"
     ]
    }
   ],
   "source": [
    "print (mylist[:])"
   ]
  },
  {
   "cell_type": "code",
   "execution_count": 31,
   "metadata": {
    "collapsed": false,
    "nbpresent": {
     "id": "b0fe4e59-5384-49eb-b877-4177f213775d"
    }
   },
   "outputs": [
    {
     "name": "stdout",
     "output_type": "stream",
     "text": [
      "[2, 3.14]\n"
     ]
    }
   ],
   "source": [
    "print (mylist[1:3])"
   ]
  },
  {
   "cell_type": "code",
   "execution_count": 32,
   "metadata": {
    "collapsed": false,
    "nbpresent": {
     "id": "7fa2c277-f3a7-4ea4-83ed-75fd7f91e826"
    }
   },
   "outputs": [
    {
     "name": "stdout",
     "output_type": "stream",
     "text": [
      "[3.14, 5]\n"
     ]
    }
   ],
   "source": [
    "print (mylist[-3:-1])"
   ]
  },
  {
   "cell_type": "code",
   "execution_count": 33,
   "metadata": {
    "collapsed": false,
    "nbpresent": {
     "id": "a9f1f129-0f11-4bb9-b106-f0c2438ab565"
    }
   },
   "outputs": [
    {
     "name": "stdout",
     "output_type": "stream",
     "text": [
      "[2, 3.14, 5, 12]\n"
     ]
    }
   ],
   "source": [
    "print (mylist[1:])\n",
    "\n",
    "# Ajout d'un troisième paramètre, \"step\" aura l'étape Python en\n",
    "# Nombre d'incréments, plutôt que 1.\n",
    "# E.g., cela retourne le premier élément, puis passez au troisième et\n",
    "# Return that (donc, items 0 et 2 dans 0-indexing)."
   ]
  },
  {
   "cell_type": "code",
   "execution_count": 34,
   "metadata": {
    "collapsed": false,
    "nbpresent": {
     "id": "14a735d3-cf91-4256-99fb-c5a432389553"
    }
   },
   "outputs": [
    {
     "name": "stdout",
     "output_type": "stream",
     "text": [
      "['List item 1', 3.14, 12]\n"
     ]
    }
   ],
   "source": [
    "print (mylist[::2])"
   ]
  },
  {
   "cell_type": "markdown",
   "metadata": {
    "nbpresent": {
     "id": "c80b1b3e-9284-433a-8aea-6aefba2b1654"
    }
   },
   "source": [
    "# Strings"
   ]
  },
  {
   "cell_type": "markdown",
   "metadata": {
    "nbpresent": {
     "id": "7ab23166-95c9-455b-b953-2fbd606630cd"
    }
   },
   "source": [
    "Ses chaînes peuvent utiliser des guillemets simples ou doubles, et vous pouvez avoir des guillemets d'un type à l'intérieur d'une chaîne qui utilise l'autre type (c'est-à-dire «Il a dit« bonjour ». \"\" \") Python supporte Unicode hors de la boîte, en utilisant la syntaxe (\" Ceci est une chaîne Unicode. \"Modulo) opérateur et un tuple. Chaque % s est remplacé par un élément du tuple, de gauche à droite, et vous pouvez également utiliser Substitution de dictionnaire, comme ceci:"
   ]
  },
  {
   "cell_type": "code",
   "execution_count": 35,
   "metadata": {
    "collapsed": false,
    "nbpresent": {
     "id": "4e6929ed-3c11-49c4-bae4-325c1437baf2"
    }
   },
   "outputs": [
    {
     "name": "stdout",
     "output_type": "stream",
     "text": [
      "Name: PoromenosNumber: 3String: ---\n"
     ]
    }
   ],
   "source": [
    "print (\"Name: %s\\\n",
    "Number: %s\\\n",
    "String: %s\" % (\"Poromenos\", 3, 3 * \"-\"))"
   ]
  },
  {
   "cell_type": "code",
   "execution_count": 36,
   "metadata": {
    "collapsed": true,
    "nbpresent": {
     "id": "ec99f0bc-4da3-4f26-8ec2-37e228dd9dd3"
    }
   },
   "outputs": [],
   "source": [
    "strString = \"\"\"This is\n",
    "a multiline\n",
    "string.\"\"\"\n",
    "\n",
    "# WARNING : Prenez garde aux traînées dans \"% (key) s\".>>> print \"This %(verb)s a %(noun)s.\" % {\"noun\": \"test\", \"verb\": \"is\"}"
   ]
  },
  {
   "cell_type": "code",
   "execution_count": 37,
   "metadata": {
    "collapsed": false,
    "nbpresent": {
     "id": "597520a5-bd22-4370-9d79-ba64091acf83"
    }
   },
   "outputs": [
    {
     "name": "stdout",
     "output_type": "stream",
     "text": [
      "This is a test.\n"
     ]
    }
   ],
   "source": [
    "print (\"This %(verb)s a %(noun)s.\" % {\"noun\": \"test\", \"verb\": \"is\"})"
   ]
  },
  {
   "cell_type": "markdown",
   "metadata": {
    "nbpresent": {
     "id": "aec29259-65c7-40bc-8136-08b1e1e763da"
    }
   },
   "source": [
    "# Déclarations des contrôles de flux"
   ]
  },
  {
   "cell_type": "markdown",
   "metadata": {
    "nbpresent": {
     "id": "15ea5c70-4595-48c8-aacb-2a38819c35ba"
    }
   },
   "source": [
    "Les instructions de contrôle de flux sont if, for et while. S'il n'y a pas de commutateur, utilisez plutôt if. Utiliser la boucle for pour énumérer les membres d'une liste. Pour obtenir une liste de numéros, utilisez la plage (<nombre>). La syntaxe de ces énoncés est donc:"
   ]
  },
  {
   "cell_type": "code",
   "execution_count": 38,
   "metadata": {
    "collapsed": true,
    "nbpresent": {
     "id": "d73894a9-6c3b-4597-ab69-85ab6c713f1f"
    }
   },
   "outputs": [],
   "source": [
    "rangelist = range(10)"
   ]
  },
  {
   "cell_type": "code",
   "execution_count": null,
   "metadata": {
    "collapsed": false,
    "nbpresent": {
     "id": "54967be3-9306-4071-a323-78ac21864c82"
    }
   },
   "outputs": [
    {
     "name": "stdout",
     "output_type": "stream",
     "text": [
      "range(0, 10)\n"
     ]
    }
   ],
   "source": [
    "print (rangelist)"
   ]
  },
  {
   "cell_type": "code",
   "execution_count": null,
   "metadata": {
    "collapsed": false,
    "nbpresent": {
     "id": "b1926477-d09f-4fbc-a979-9fc9649c4fac"
    }
   },
   "outputs": [
    {
     "name": "stdout",
     "output_type": "stream",
     "text": [
      "Dunno\n"
     ]
    }
   ],
   "source": [
    "for number in rangelist:\n",
    "    # Vérifiez si le numéro est l'un des nombres dans le tuple.\n",
    "    if number in (3, 4, 7, 9):\n",
    "        # \"Break\" termine un pour sans exécution de la clause \"else\".\n",
    "        break\n",
    "    else:\n",
    "        # \"Continue\" lance la prochaine itération\n",
    "        # De la boucle. C'est plutôt inutile ici,\n",
    "        # Car c'est la dernière instruction de la boucle.\n",
    "        continue\n",
    "else:\n",
    "    # La clause \"else\" est facultative et est exécuté uniquement si la boucle n'a pas été \"break\".\n",
    "    pass # Ne fais rien\n",
    "\n",
    "if rangelist[1] == 2:\n",
    "    print (\"The second item (lists are 0-based) is 2\")\n",
    "elif rangelist[1] == 3:\n",
    "    print (\"The second item (lists are 0-based) is 3\")\n",
    "else:\n",
    "    print (\"Dunno\")\n",
    "\n",
    "while rangelist[1] == 1:\n",
    "    pass"
   ]
  },
  {
   "cell_type": "markdown",
   "metadata": {
    "nbpresent": {
     "id": "f1801869-f370-43e9-9aa0-c079c6df56c5"
    }
   },
   "source": [
    "# Fonctions"
   ]
  },
  {
   "cell_type": "markdown",
   "metadata": {},
   "source": [
    "Les fonctions sont déclarées avec le mot-clé \"def\". Les arguments optionnels sont définis dans la déclaration de fonction après les arguments obligatoires en étant affectés à une valeur par défaut. Pour les arguments nommés, le nom de l'argument est affecté d'une valeur. Les fonctions peuvent retourner un tuple (et en utilisant le déballage tuple, vous pouvez effectivement retourner plusieurs valeurs). Les fonctions Lambda sont des fonctions ad hoc qui sont composées d'une seule instruction. Les paramètres sont transmis par référence, mais les types immuables (tuples, ints, chaînes, etc) ne peuvent pas être modifiés. C'est parce que seul l'emplacement de mémoire de l'élément est passé, et la liaison d'un autre objet à une variable ignore l'ancien, donc les types immuables sont remplacés. Par exemple:"
   ]
  },
  {
   "cell_type": "code",
   "execution_count": null,
   "metadata": {
    "collapsed": true,
    "nbpresent": {
     "id": "ad71fcdc-6d06-4f64-ae2d-95c1a1180681"
    }
   },
   "outputs": [],
   "source": [
    "funcvar = lambda x: x + 1"
   ]
  },
  {
   "cell_type": "code",
   "execution_count": null,
   "metadata": {
    "collapsed": false,
    "nbpresent": {
     "id": "1ba44574-49b8-4321-a9fc-da3ab2957204"
    }
   },
   "outputs": [],
   "source": [
    "print (funcvar(1))"
   ]
  },
  {
   "cell_type": "code",
   "execution_count": null,
   "metadata": {
    "collapsed": true,
    "nbpresent": {
     "id": "1fec8c1b-a84c-4d54-9a16-e162ec8065ea"
    }
   },
   "outputs": [],
   "source": [
    "# An_int et a_string sont optionnels, ils ont des valeurs par défaut\n",
    "# Si l'un n'est pas passé (2 et \"Une chaîne par défaut\", respectivement).\n",
    "def passing_example(a_list, an_int=2, a_string=\"A default string\"):\n",
    "    a_list.append(\"A new item\")\n",
    "    an_int = 4\n",
    "    return a_list, an_int, a_string"
   ]
  },
  {
   "cell_type": "code",
   "execution_count": null,
   "metadata": {
    "collapsed": true,
    "nbpresent": {
     "id": "92121a90-f077-42d6-b9b3-24cb07e3881f"
    }
   },
   "outputs": [],
   "source": [
    "my_list = [1, 2, 3]"
   ]
  },
  {
   "cell_type": "code",
   "execution_count": null,
   "metadata": {
    "collapsed": true,
    "nbpresent": {
     "id": "4cb3ad19-1901-4eca-b233-fe58747604b8"
    }
   },
   "outputs": [],
   "source": [
    "my_int = 10"
   ]
  },
  {
   "cell_type": "code",
   "execution_count": null,
   "metadata": {
    "collapsed": false,
    "nbpresent": {
     "id": "555afe75-52c6-48d4-b774-ad80b96e5f6e"
    }
   },
   "outputs": [],
   "source": [
    "print (passing_example(my_list, my_int))"
   ]
  },
  {
   "cell_type": "code",
   "execution_count": null,
   "metadata": {
    "collapsed": false,
    "nbpresent": {
     "id": "ae5dcd59-224b-4fca-ae61-ce961fac1948"
    }
   },
   "outputs": [],
   "source": [
    "my_list"
   ]
  },
  {
   "cell_type": "code",
   "execution_count": null,
   "metadata": {
    "collapsed": false,
    "nbpresent": {
     "id": "a135769c-b31a-4ceb-96d5-b9945b3f7e81"
    }
   },
   "outputs": [],
   "source": [
    "my_int"
   ]
  },
  {
   "cell_type": "markdown",
   "metadata": {
    "nbpresent": {
     "id": "0e66a4e5-ffca-447f-b3a3-fb4ed075f462"
    }
   },
   "source": [
    "# Les classes"
   ]
  },
  {
   "cell_type": "markdown",
   "metadata": {},
   "source": [
    "Python prend en charge une forme limitée d'héritage multiple dans les classes. Les variables et les méthodes privées peuvent être déclarées (par convention, cela n'est pas imposé par la langue) en ajoutant au moins deux caractères de soulignement et au plus un caractère de fin (par exemple \"__spam\"). Nous pouvons également lier des noms arbitraires aux instances de classe. Voici un exemple:"
   ]
  },
  {
   "cell_type": "code",
   "execution_count": null,
   "metadata": {
    "collapsed": true,
    "nbpresent": {
     "id": "b106176d-06bf-462c-902e-2d37b91cd6b6"
    }
   },
   "outputs": [],
   "source": [
    "class MyClass(object):\n",
    "    common = 10\n",
    "    def __init__(self):\n",
    "        self.myvariable = 3\n",
    "    def myfunction(self, arg1, arg2):\n",
    "        return self.myvariable"
   ]
  },
  {
   "cell_type": "code",
   "execution_count": null,
   "metadata": {
    "collapsed": false,
    "nbpresent": {
     "id": "af1b8d48-3327-4989-8e20-25a8d6b1f9da"
    }
   },
   "outputs": [],
   "source": [
    " # Ceci est l'instanciation de classe\n",
    "classinstance = MyClass()"
   ]
  },
  {
   "cell_type": "code",
   "execution_count": null,
   "metadata": {
    "collapsed": false,
    "nbpresent": {
     "id": "182cff9b-d990-43c5-a964-7f8e4976438b"
    }
   },
   "outputs": [],
   "source": [
    "classinstance.myfunction(1, 2)"
   ]
  },
  {
   "cell_type": "code",
   "execution_count": null,
   "metadata": {
    "collapsed": true,
    "nbpresent": {
     "id": "ad3ef9c7-2ff2-4048-8e25-fba4386be1f4"
    }
   },
   "outputs": [],
   "source": [
    "# Cette variable est partagée par toutes les instances.\n",
    "classinstance2 = MyClass()"
   ]
  },
  {
   "cell_type": "code",
   "execution_count": null,
   "metadata": {
    "collapsed": false,
    "nbpresent": {
     "id": "faca70f8-f946-41c1-9455-d32a60a13b4e"
    }
   },
   "outputs": [],
   "source": [
    "classinstance.common"
   ]
  },
  {
   "cell_type": "code",
   "execution_count": null,
   "metadata": {
    "collapsed": false,
    "nbpresent": {
     "id": "c1f797e6-ae93-4766-ab35-695029e626f2"
    }
   },
   "outputs": [],
   "source": [
    "classinstance2.common"
   ]
  },
  {
   "cell_type": "code",
   "execution_count": null,
   "metadata": {
    "collapsed": true,
    "nbpresent": {
     "id": "219e3671-1aad-4ff5-91e3-626908b88bc9"
    }
   },
   "outputs": [],
   "source": [
    "# Notez comment nous utilisons le nom de classe\n",
    "# À la place de l'instance.\n",
    "MyClass.common = 30"
   ]
  },
  {
   "cell_type": "code",
   "execution_count": null,
   "metadata": {
    "collapsed": false,
    "nbpresent": {
     "id": "7e207eee-3194-4db6-a54c-cbf9d1e7dce6"
    }
   },
   "outputs": [],
   "source": [
    "classinstance.common"
   ]
  },
  {
   "cell_type": "code",
   "execution_count": null,
   "metadata": {
    "collapsed": false,
    "nbpresent": {
     "id": "6d2871f1-f1b2-4bbc-b843-23fadd7a57ef"
    }
   },
   "outputs": [],
   "source": [
    "classinstance2.common"
   ]
  },
  {
   "cell_type": "code",
   "execution_count": null,
   "metadata": {
    "collapsed": false,
    "nbpresent": {
     "id": "524605af-33c8-488e-a54e-272d1f87c57a"
    }
   },
   "outputs": [],
   "source": [
    "# Ceci ne mettra pas à jour la variable sur la classe,\n",
    "# Au lieu de cela il liera un nouvel objet à l'ancien\n",
    "# Nom de la variable.\n",
    "classinstance.common = 10"
   ]
  },
  {
   "cell_type": "code",
   "execution_count": null,
   "metadata": {
    "collapsed": false,
    "nbpresent": {
     "id": "3e7d932d-03ee-47f6-92cb-56f9b1e15628"
    }
   },
   "outputs": [],
   "source": [
    "classinstance.common\n"
   ]
  },
  {
   "cell_type": "code",
   "execution_count": null,
   "metadata": {
    "collapsed": false,
    "nbpresent": {
     "id": "be88bec0-6846-4b88-9a2b-988c6f3eb18a"
    }
   },
   "outputs": [],
   "source": [
    "classinstance2.common"
   ]
  },
  {
   "cell_type": "code",
   "execution_count": null,
   "metadata": {
    "collapsed": true,
    "nbpresent": {
     "id": "54154657-8e72-4f77-9894-1e2e5de274c6"
    }
   },
   "outputs": [],
   "source": [
    "MyClass.common = 50"
   ]
  },
  {
   "cell_type": "code",
   "execution_count": null,
   "metadata": {
    "collapsed": false,
    "nbpresent": {
     "id": "a8a9df97-f43d-442f-bb7e-6a75ff776ee7"
    }
   },
   "outputs": [],
   "source": [
    "# Cela n'a pas changé, car \"common\" est\n",
    "# Maintenant une variable d'instance.\n",
    "classinstance.common"
   ]
  },
  {
   "cell_type": "code",
   "execution_count": null,
   "metadata": {
    "collapsed": false,
    "nbpresent": {
     "id": "9c96641f-0f25-4ec4-b0d7-fabd1e342a0a"
    }
   },
   "outputs": [],
   "source": [
    "classinstance2.common"
   ]
  },
  {
   "cell_type": "code",
   "execution_count": null,
   "metadata": {
    "collapsed": true,
    "nbpresent": {
     "id": "a1c431c5-5266-4364-a47f-61be4b071ccc"
    }
   },
   "outputs": [],
   "source": [
    "# Cette classe hérite de MyClass. L'exemple\n",
    "# Class above hérite de \"object\", ce qui rend\n",
    "# Ce qui est appelé une «nouvelle classe de style».\n",
    "# L'héritage multiple est déclaré comme:\n",
    "# Class OtherClass (MyClass1, MyClass2, MyClassN)\n",
    "class OtherClass(MyClass):\n",
    "    # L'argument \"self\" est transmis automatiquement\n",
    "    # Et se réfère à l'instance de classe, de sorte que vous pouvez définir\n",
    "    # Variables d'instance comme ci-dessus, mais à l'intérieur de la classe.\n",
    "    def __init__(self, arg1):\n",
    "        self.myvariable = 3\n",
    "        print(arg1)"
   ]
  },
  {
   "cell_type": "code",
   "execution_count": null,
   "metadata": {
    "collapsed": false,
    "nbpresent": {
     "id": "b7ec3b18-b1b3-47d5-895c-ae551bad529c"
    }
   },
   "outputs": [],
   "source": [
    "classinstance = OtherClass(\"hello\")"
   ]
  },
  {
   "cell_type": "code",
   "execution_count": null,
   "metadata": {
    "collapsed": false,
    "nbpresent": {
     "id": "3e832915-b0a9-471a-bd54-761114598e20"
    }
   },
   "outputs": [],
   "source": [
    "classinstance.myfunction(1, 2)"
   ]
  },
  {
   "cell_type": "code",
   "execution_count": null,
   "metadata": {
    "collapsed": true,
    "nbpresent": {
     "id": "c87cfe69-3427-4ccd-8048-fa19d141232a"
    }
   },
   "outputs": [],
   "source": [
    "# Cette classe n'a pas de membre .test, mais\n",
    "# Nous pouvons ajouter un à l'instance de toute façon. Remarque\n",
    "# Que ce ne sera qu'un membre de classinstance.\n",
    "classinstance.test = 10"
   ]
  },
  {
   "cell_type": "code",
   "execution_count": null,
   "metadata": {
    "collapsed": false,
    "nbpresent": {
     "id": "26e19850-07a7-468d-8007-877a43ef7742"
    }
   },
   "outputs": [],
   "source": [
    "classinstance.test"
   ]
  },
  {
   "cell_type": "markdown",
   "metadata": {
    "nbpresent": {
     "id": "5adcc5bf-a852-426e-b5a0-3506a7ffe00c"
    }
   },
   "source": [
    "# Les exeptions"
   ]
  },
  {
   "cell_type": "markdown",
   "metadata": {
    "nbpresent": {
     "id": "f6021d5c-b210-47ff-8943-25ba1445e474"
    }
   },
   "source": [
    "Les exceptions en Python sont gérées avec des blocs try-except "
   ]
  },
  {
   "cell_type": "code",
   "execution_count": null,
   "metadata": {
    "collapsed": false,
    "nbpresent": {
     "id": "8ac2d0c5-8cc1-486b-a42b-da92dd730ed7"
    }
   },
   "outputs": [],
   "source": [
    "def some_function():\n",
    "    try:\n",
    "        # La division par zéro soulève une exception\n",
    "        10 / 0\n",
    "    except ZeroDivisionError:\n",
    "        print (\"Oops, invalid.\")\n",
    "    else:\n",
    "        # L'exception ne s'est pas produite.\n",
    "        pass\n",
    "    finally:   \n",
    "        # Ceci est exécuté après que le bloc de code est exécuté\n",
    "        # Et toutes les exceptions ont été traitées, même\n",
    "        # Si une nouvelle exception est levée pendant la manipulation.\n",
    "        print (\"We're done with that.\")"
   ]
  },
  {
   "cell_type": "code",
   "execution_count": null,
   "metadata": {
    "collapsed": false,
    "nbpresent": {
     "id": "8d9fbc44-3b39-4008-86de-bf633e08522a"
    }
   },
   "outputs": [],
   "source": [
    "some_function()"
   ]
  },
  {
   "cell_type": "markdown",
   "metadata": {
    "nbpresent": {
     "id": "690820ab-d656-426a-ae7b-9c17646f660e"
    }
   },
   "source": [
    "# Importation"
   ]
  },
  {
   "cell_type": "markdown",
   "metadata": {
    "nbpresent": {
     "id": "c824deda-03c6-40a5-a04c-bdf131c5e01d"
    }
   },
   "source": [
    "Les bibliothèques externes sont utilisées avec le mot clé import [libname]. Vous pouvez également utiliser [libname] import [funcname] pour des fonctions individuelles. Voici un exemple:"
   ]
  },
  {
   "cell_type": "code",
   "execution_count": null,
   "metadata": {
    "collapsed": true,
    "nbpresent": {
     "id": "ec212792-8ac8-4e7e-946b-93298080217b"
    }
   },
   "outputs": [],
   "source": [
    "import random\n",
    "from time import clock\n",
    "\n",
    "randomint = random.randint(1, 100)"
   ]
  },
  {
   "cell_type": "code",
   "execution_count": null,
   "metadata": {
    "collapsed": false,
    "nbpresent": {
     "id": "78f1d682-1c38-4fff-817c-d068e7150ff9"
    }
   },
   "outputs": [],
   "source": [
    "print (randomint)"
   ]
  },
  {
   "cell_type": "markdown",
   "metadata": {
    "nbpresent": {
     "id": "c7fcb9b6-90d3-4e58-9dfd-a1d04c07dfa6"
    }
   },
   "source": [
    "# Ficher E/S"
   ]
  },
  {
   "cell_type": "markdown",
   "metadata": {
    "nbpresent": {
     "id": "8b8aa528-d425-4b3d-a9ac-a81a44950a85"
    }
   },
   "source": [
    "Python possède un large éventail de bibliothèques intégrées. À titre d'exemple, voici comment la sérialisation (conversion de structures de données en chaînes à l'aide de la bibliothèque pickle) avec une E / S de fichier est utilisée:"
   ]
  },
  {
   "cell_type": "code",
   "execution_count": null,
   "metadata": {
    "collapsed": false,
    "nbpresent": {
     "id": "b3f76833-a126-43f4-b4c1-789ccc166eb6"
    }
   },
   "outputs": [],
   "source": [
    "import pickle\n",
    "mylist = [\"This\", \"is\", 4, 13327]\n",
    "# Ouvrez le fichier C: \\\\ binary.dat pour écrire. La lettre r avant que la\n",
    "# Chaîne de nom de fichier soit utilisée pour empêcher l'échappement de barre oblique inverse.\n",
    "myfile = open(r\"C:\\\\binary.dat\", \"w\")\n",
    "pickle.dump(mylist, myfile)\n",
    "myfile.close()\n",
    "\n",
    "myfile = open(r\"C:\\\\text.txt\", \"w\")\n",
    "myfile.write(\"This is a sample string\")\n",
    "myfile.close()\n",
    "\n",
    "myfile = open(r\"C:\\\\text.txt\")"
   ]
  },
  {
   "cell_type": "code",
   "execution_count": null,
   "metadata": {
    "collapsed": true,
    "nbpresent": {
     "id": "d0c03972-d379-4cf6-88ea-03941ff60d83"
    }
   },
   "outputs": [],
   "source": [
    "print (myfile.read())\n",
    "'This is a sample string'\n",
    "myfile.close()"
   ]
  },
  {
   "cell_type": "code",
   "execution_count": null,
   "metadata": {
    "collapsed": true,
    "nbpresent": {
     "id": "eae4f19e-2255-4d08-b4b5-3a657bd57197"
    }
   },
   "outputs": [],
   "source": [
    "# Ouvrez le fichier pour lecture.\n",
    "myfile = open(r\"C:\\\\binary.dat\")\n",
    "loadedlist = pickle.load(myfile)\n",
    "myfile.close()"
   ]
  },
  {
   "cell_type": "code",
   "execution_count": null,
   "metadata": {
    "collapsed": true,
    "nbpresent": {
     "id": "47afae57-253a-44a6-bc09-fe8aae15ae5f"
    }
   },
   "outputs": [],
   "source": [
    "print (loadedlist)\n",
    "['This', 'is', 4, 13327]"
   ]
  },
  {
   "cell_type": "markdown",
   "metadata": {
    "nbpresent": {
     "id": "4ae558bd-e0db-4c54-88dc-3999a6212077"
    }
   },
   "source": [
    "# Divers"
   ]
  },
  {
   "cell_type": "markdown",
   "metadata": {
    "nbpresent": {
     "id": "659bbce6-bfe7-4161-a9d3-0b0ef709b225"
    }
   },
   "source": [
    "Les conditions peuvent être enchaînées. '1 <a <3' vérifie que a est à la fois inférieur à 3 et supérieur à 1.\n",
    "Vous pouvez utiliser \"del\" pour supprimer des variables ou des éléments dans des tableaux.\n",
    "\"List comprehensions\" fourni un moyen puissant pour créer et manipuler des listes. Il consiste en une expression suivie d'une clause for suivie de zéro ou plus si ou pour des clauses, comme suit:"
   ]
  },
  {
   "cell_type": "code",
   "execution_count": null,
   "metadata": {
    "collapsed": true,
    "nbpresent": {
     "id": "0aa7bf83-bb2d-4fb5-aa43-4ddaf52ce440"
    }
   },
   "outputs": [],
   "source": [
    "lst1 = [1, 2, 3]"
   ]
  },
  {
   "cell_type": "code",
   "execution_count": null,
   "metadata": {
    "collapsed": true,
    "nbpresent": {
     "id": "a68aa760-fba6-4537-a9b0-ac5229d03ed3"
    }
   },
   "outputs": [],
   "source": [
    "lst2 = [3, 4, 5]"
   ]
  },
  {
   "cell_type": "code",
   "execution_count": null,
   "metadata": {
    "collapsed": false,
    "nbpresent": {
     "id": "a89dd1e9-87c2-4419-8671-6ee862de2083"
    }
   },
   "outputs": [],
   "source": [
    "print ([x * y for x in lst1 for y in lst2])"
   ]
  },
  {
   "cell_type": "code",
   "execution_count": null,
   "metadata": {
    "collapsed": false,
    "nbpresent": {
     "id": "c6423297-c8b6-4db0-8790-89bffbb0b1ed"
    }
   },
   "outputs": [],
   "source": [
    "print ([x for x in lst1 if 4 > x > 1])"
   ]
  },
  {
   "cell_type": "code",
   "execution_count": null,
   "metadata": {
    "collapsed": false,
    "nbpresent": {
     "id": "0c1aa61b-9f38-4958-b356-5fcb84acef84"
    }
   },
   "outputs": [],
   "source": [
    "# Vérifiez si une condition est vraie pour tous les éléments.\n",
    "# \"Any\" renvoie true si un élément de la liste est vrai.\n",
    "any([i % 3 for i in [3, 3, 4, 4, 3]])"
   ]
  },
  {
   "cell_type": "markdown",
   "metadata": {
    "nbpresent": {
     "id": "391ff728-1e15-4a1c-8c42-1ad5588836b4"
    }
   },
   "source": [
    "C'est parce que 4% 3 = 1, et 1 est vrai, donc tout ()\n",
    "Retourne True."
   ]
  },
  {
   "cell_type": "code",
   "execution_count": null,
   "metadata": {
    "collapsed": false,
    "nbpresent": {
     "id": "a463bb11-7aaf-4087-afd2-dc6d534c0dee"
    }
   },
   "outputs": [],
   "source": [
    "# Vérifiez combien d'éléments une condition est vraie.\n",
    "sum(1 for i in [3, 3, 4, 4, 3] if i == 4)"
   ]
  },
  {
   "cell_type": "code",
   "execution_count": null,
   "metadata": {
    "collapsed": true,
    "nbpresent": {
     "id": "af5a798d-3593-4c90-8742-c2a0782d2345"
    }
   },
   "outputs": [],
   "source": [
    "del lst1[0]"
   ]
  },
  {
   "cell_type": "code",
   "execution_count": null,
   "metadata": {
    "collapsed": false,
    "nbpresent": {
     "id": "03da3d82-e2a6-4809-9bfa-d7c1afd76ed8"
    }
   },
   "outputs": [],
   "source": [
    "print (lst1)"
   ]
  },
  {
   "cell_type": "code",
   "execution_count": null,
   "metadata": {
    "collapsed": true,
    "nbpresent": {
     "id": "fb226bd7-106b-48f3-8b75-7f1bd7c9c12a"
    }
   },
   "outputs": [],
   "source": [
    "del lst1"
   ]
  },
  {
   "cell_type": "code",
   "execution_count": null,
   "metadata": {
    "collapsed": true,
    "nbpresent": {
     "id": "d5c2bde2-d83a-465b-a944-c263009ac1ce"
    }
   },
   "outputs": [],
   "source": [
    "number = 5\n",
    "\n",
    "#Ici on décide de définir 3 fonctions :\n",
    "\n",
    "def myfunc():\n",
    "    # Ceci imprimera 5.\n",
    "    print (number)\n",
    "\n",
    "def anotherfunc():\n",
    "    # Cela soulève une exception car la variable n'a pas\n",
    "    # Été lié avant l'impression. Python sait qu'il s'agit d'un\n",
    "    # Objet sera lié à elle plus tard et crée un nouveau, local\n",
    "    # Objet au lieu d'accéder à l'objet global.\n",
    "    print (number)\n",
    "    number = 3\n",
    "\n",
    "def yetanotherfunc():\n",
    "    global number\n",
    "    # Cela changera correctement le global.\n",
    "    number = 3"
   ]
  },
  {
   "cell_type": "markdown",
   "metadata": {
    "nbpresent": {
     "id": "583a4f53-62f3-4f4b-b69b-0cc066f57a5b"
    }
   },
   "source": [
    "# Epilogue"
   ]
  },
  {
   "cell_type": "markdown",
   "metadata": {
    "nbpresent": {
     "id": "40bcdba7-8734-4a28-8437-b996c2a13f07"
    }
   },
   "source": [
    "Ce tutoriel n'est pas destiné à être une liste exhaustive de tous (ou même d'un sous-ensemble) Python. Python a un vaste éventail de bibliothèques et beaucoup plus de fonctionnalités que vous aurez à découvrir par d'autres moyens, tels que l'excellent livre Dive into Python. J'espère avoir rendu votre transition en Python plus facile. S'il vous plaît laissez des commentaires si vous pensez qu'il ya quelque chose qui pourrait être amélioré ou ajouté ou s'il ya quelque chose que vous aimeriez voir (classes, gestion des erreurs, quoi que ce soit)."
   ]
  }
 ],
 "metadata": {
  "anaconda-cloud": {},
  "kernelspec": {
   "display_name": "Python [default]",
   "language": "python",
   "name": "python3"
  },
  "language_info": {
   "codemirror_mode": {
    "name": "ipython",
    "version": 3
   },
   "file_extension": ".py",
   "mimetype": "text/x-python",
   "name": "python",
   "nbconvert_exporter": "python",
   "pygments_lexer": "ipython3",
   "version": "3.5.2"
  }
 },
 "nbformat": 4,
 "nbformat_minor": 1
}
