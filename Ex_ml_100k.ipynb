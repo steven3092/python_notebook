{
 "cells": [
  {
   "cell_type": "code",
   "execution_count": 3,
   "metadata": {
    "collapsed": false
   },
   "outputs": [
    {
     "name": "stdout",
     "output_type": "stream",
     "text": [
      "   user_id  item_id  rating  timestamp\n",
      "0      196      242       3  881250949\n",
      "1      186      302       3  891717742\n",
      "2       22      377       1  878887116\n",
      "3      244       51       2  880606923\n",
      "4      166      346       1  886397596\n",
      "5      298      474       4  884182806\n",
      "6      115      265       2  881171488\n",
      "7      253      465       5  891628467\n",
      "8      305      451       3  886324817\n",
      "9        6       86       3  883603013\n"
     ]
    }
   ],
   "source": [
    "import os\n",
    "import pandas as pd # Pandas est un framework de python qui permet de gérer les fichier CSV.\n",
    "\n",
    "#On modifie le directory pour aller chercher plus facilement notre fichier u.data\n",
    "os.chdir(\"C:/Users/Steven\")\n",
    "\n",
    "names = ['user_id', 'item_id', 'rating', 'timestamp']\n",
    "df = pd.read_csv('ml-100k/u.data', sep='\\t', names=names)\n",
    "print (df.head(n=10))"
   ]
  },
  {
   "cell_type": "code",
   "execution_count": 4,
   "metadata": {
    "collapsed": false
   },
   "outputs": [
    {
     "name": "stdout",
     "output_type": "stream",
     "text": [
      "1682 items\n",
      "943 users\n",
      "5 ratings\n"
     ]
    }
   ],
   "source": [
    "# On affiche la proportion de films, d'utilisateurs et de type d'étoiles différentes\n",
    "n_items = df.item_id.unique().shape[0]\n",
    "print (str(n_items) + ' items')\n",
    "\n",
    "n_users = df.user_id.unique().shape[0]\n",
    "print (str(n_users) + ' users')\n",
    "\n",
    "n_ratings = df.rating.unique().shape[0]\n",
    "print (str(n_ratings) + ' ratings')"
   ]
  },
  {
   "cell_type": "code",
   "execution_count": 14,
   "metadata": {
    "collapsed": false
   },
   "outputs": [
    {
     "name": "stdout",
     "output_type": "stream",
     "text": [
      "6110 films qui ont une étoile\n"
     ]
    }
   ],
   "source": [
    "# A partir d'ici chaque boucle ressort le nombre de films par rapport à la proportion d'étoiles (1,2,3,4 ou 5)\n",
    "i = 0\n",
    "for Index, row in df.iterrows():\n",
    "    if row['rating'] == 1 :\n",
    "        i = i +1\n",
    "print (str(i) + ' films qui ont une étoile')"
   ]
  },
  {
   "cell_type": "code",
   "execution_count": 16,
   "metadata": {
    "collapsed": false
   },
   "outputs": [
    {
     "name": "stdout",
     "output_type": "stream",
     "text": [
      "11370 films qui ont deux étoiles\n"
     ]
    }
   ],
   "source": [
    "j = 0\n",
    "for Index, row in df.iterrows():\n",
    "    if row['rating'] == 2 :\n",
    "        j = j +1\n",
    "print (str(j) + ' films qui ont deux étoiles')"
   ]
  },
  {
   "cell_type": "code",
   "execution_count": 17,
   "metadata": {
    "collapsed": false
   },
   "outputs": [
    {
     "name": "stdout",
     "output_type": "stream",
     "text": [
      "27145 films qui ont trois étoiles\n"
     ]
    }
   ],
   "source": [
    "k = 0\n",
    "for Index, row in df.iterrows():\n",
    "    if row['rating'] == 3 :\n",
    "        k = k +1\n",
    "print (str(k) + ' films qui ont trois étoiles')"
   ]
  },
  {
   "cell_type": "code",
   "execution_count": 18,
   "metadata": {
    "collapsed": false
   },
   "outputs": [
    {
     "name": "stdout",
     "output_type": "stream",
     "text": [
      "34174 films qui ont quatre étoiles\n"
     ]
    }
   ],
   "source": [
    "l = 0\n",
    "for Index, row in df.iterrows():\n",
    "    if row['rating'] == 4 :\n",
    "        l = l +1\n",
    "print (str(l) + ' films qui ont quatre étoiles')"
   ]
  },
  {
   "cell_type": "code",
   "execution_count": 19,
   "metadata": {
    "collapsed": false
   },
   "outputs": [
    {
     "name": "stdout",
     "output_type": "stream",
     "text": [
      "21201 films qui ont cinq étoiles\n"
     ]
    }
   ],
   "source": [
    "m = 0\n",
    "for Index, row in df.iterrows():\n",
    "    if row['rating'] == 5 :\n",
    "        m = m +1\n",
    "print (str(m) + ' films qui ont cinq étoiles')"
   ]
  }
 ],
 "metadata": {
  "anaconda-cloud": {},
  "kernelspec": {
   "display_name": "Python [default]",
   "language": "python",
   "name": "python3"
  },
  "language_info": {
   "codemirror_mode": {
    "name": "ipython",
    "version": 3
   },
   "file_extension": ".py",
   "mimetype": "text/x-python",
   "name": "python",
   "nbconvert_exporter": "python",
   "pygments_lexer": "ipython3",
   "version": "3.5.2"
  }
 },
 "nbformat": 4,
 "nbformat_minor": 1
}
