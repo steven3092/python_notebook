{
 "cells": [
  {
   "cell_type": "markdown",
   "metadata": {},
   "source": [
    "# Utilisation des listes sous forme stacks (piles)\n",
    "Les méthodes de liste rendent très facile d'utiliser une liste comme une pile, où le dernier élément ajouté est le premier élément récupéré («dernier entré, premier sorti»). Pour ajouter un élément au sommet de la pile, utilisez append (). Pour récupérer un élément du haut de la pile, utilisez pop () sans index explicite. Par exemple:"
   ]
  },
  {
   "cell_type": "code",
   "execution_count": 70,
   "metadata": {
    "collapsed": false
   },
   "outputs": [
    {
     "data": {
      "text/plain": [
       "[3, 4]"
      ]
     },
     "execution_count": 70,
     "metadata": {},
     "output_type": "execute_result"
    }
   ],
   "source": [
    ">>> stack = [3, 4, 5]\n",
    ">>> stack.append(6)\n",
    ">>> stack.append(7)\n",
    ">>> stack\n",
    "[3, 4, 5, 6, 7]\n",
    ">>> stack.pop()\n",
    "7\n",
    ">>> stack\n",
    "[3, 4, 5, 6]\n",
    ">>> stack.pop()\n",
    "6\n",
    ">>> stack.pop()\n",
    "5\n",
    ">>> stack"
   ]
  },
  {
   "cell_type": "markdown",
   "metadata": {},
   "source": [
    "# Utilisation des listes en tant que \"queues\" (files d'attente)\n",
    "Il est également possible d'utiliser une liste comme une file d'attente, où le premier élément ajouté est le premier élément récupéré («premier entré, premier sorti»); Cependant, les listes ne sont pas efficaces à cette fin. Alors que les appends et pops de la fin de la liste sont rapides, faire des appends ou pops depuis le début d'une liste est lent (car tous les autres éléments doivent être décalés d'un seul coup).\n",
    "\n",
    "Pour implémenter une file d'attente, utilisez \"collections.deque\" qui a été conçu pour avoir des appends rapides et pops des deux extrémités. Par exemple:"
   ]
  },
  {
   "cell_type": "code",
   "execution_count": 71,
   "metadata": {
    "collapsed": false
   },
   "outputs": [
    {
     "data": {
      "text/plain": [
       "deque(['Michael', 'Terry', 'Graham'])"
      ]
     },
     "execution_count": 71,
     "metadata": {},
     "output_type": "execute_result"
    }
   ],
   "source": [
    ">>> from collections import deque\n",
    ">>> queue = deque([\"Eric\", \"John\", \"Michael\"])\n",
    ">>> queue.append(\"Terry\")           # Terry arrive\n",
    ">>> queue.append(\"Graham\")          # Graham arrive\n",
    ">>> queue.popleft()                 # Le premier qui est arrivé part\n",
    "'Eric'\n",
    ">>> queue.popleft()                 # Le deuxième qui est arrivé part\n",
    "'John'\n",
    ">>> queue                           # Renvoie la file d'attente par ordre des arrivées\n",
    "deque(['Michael', 'Terry', 'Graham'])"
   ]
  },
  {
   "cell_type": "markdown",
   "metadata": {},
   "source": [
    "# Les listes de compréhensions\n",
    "Les listes compréhensions fournissent un moyen concis de créer des listes. Les applications courantes sont de faire de nouvelles listes où chaque élément est le résultat de certaines opérations appliquées à chaque membre d'une autre séquence ou itérables, ou de créer une sous-séquence de ces éléments qui satisfont une certaine condition.\n",
    "\n",
    "Par exemple, supposons que nous voulons créer une liste de carrés, comme suit:"
   ]
  },
  {
   "cell_type": "code",
   "execution_count": 72,
   "metadata": {
    "collapsed": false
   },
   "outputs": [
    {
     "data": {
      "text/plain": [
       "[0, 1, 4, 9, 16, 25, 36, 49, 64, 81]"
      ]
     },
     "execution_count": 72,
     "metadata": {},
     "output_type": "execute_result"
    }
   ],
   "source": [
    ">>> squares = []\n",
    ">>> for x in range(10):\n",
    "...     squares.append(x**2)\n",
    "...\n",
    ">>> squares"
   ]
  },
  {
   "cell_type": "markdown",
   "metadata": {},
   "source": [
    "On peut obtenir le même résultat avec :"
   ]
  },
  {
   "cell_type": "code",
   "execution_count": 73,
   "metadata": {
    "collapsed": false
   },
   "outputs": [
    {
     "data": {
      "text/plain": [
       "[0, 1, 4, 9, 16, 25, 36, 49, 64, 81]"
      ]
     },
     "execution_count": 73,
     "metadata": {},
     "output_type": "execute_result"
    }
   ],
   "source": [
    ">>> squares = [x**2 for x in range(10)]\n",
    ">>> squares"
   ]
  },
  {
   "cell_type": "markdown",
   "metadata": {},
   "source": [
    "Une liste compréhension se compose de crochets contenant une expression suivie par une clause for ou if. Le résultat sera une nouvelle liste résultant de l'évaluation de l'expression dans le contexte des clauses for et if qui la suivent. Par exemple, cette listcomp combine les éléments de deux listes s'ils ne sont pas égaux:"
   ]
  },
  {
   "cell_type": "code",
   "execution_count": 74,
   "metadata": {
    "collapsed": false
   },
   "outputs": [
    {
     "data": {
      "text/plain": [
       "[(1, 3), (1, 4), (2, 3), (2, 1), (2, 4), (3, 1), (3, 4)]"
      ]
     },
     "execution_count": 74,
     "metadata": {},
     "output_type": "execute_result"
    }
   ],
   "source": [
    ">>> [(x, y) for x in [1,2,3] for y in [3,1,4] if x != y]\n",
    "[(1, 3), (1, 4), (2, 3), (2, 1), (2, 4), (3, 1), (3, 4)]"
   ]
  },
  {
   "cell_type": "markdown",
   "metadata": {},
   "source": [
    "Qui est équivalent à :"
   ]
  },
  {
   "cell_type": "code",
   "execution_count": 75,
   "metadata": {
    "collapsed": false
   },
   "outputs": [
    {
     "data": {
      "text/plain": [
       "[(1, 3), (1, 4), (2, 3), (2, 1), (2, 4), (3, 1), (3, 4)]"
      ]
     },
     "execution_count": 75,
     "metadata": {},
     "output_type": "execute_result"
    }
   ],
   "source": [
    ">>> combs = []\n",
    ">>> for x in [1,2,3]:\n",
    "...     for y in [3,1,4]:\n",
    "...         if x != y:\n",
    "...             combs.append((x, y))\n",
    "...\n",
    ">>> combs"
   ]
  },
  {
   "cell_type": "markdown",
   "metadata": {},
   "source": [
    "Notez comment l'ordre des instructions for et if est le même dans ces deux extraits.\n",
    "\n",
    "Si l'expression est un tuple (par exemple (x, y) dans l'exemple précédent), elle doit être entre parenthèses."
   ]
  },
  {
   "cell_type": "code",
   "execution_count": 76,
   "metadata": {
    "collapsed": false
   },
   "outputs": [
    {
     "ename": "SyntaxError",
     "evalue": "invalid syntax (<ipython-input-76-25774bc1b033>, line 19)",
     "output_type": "error",
     "traceback": [
      "\u001b[0;36m  File \u001b[0;32m\"<ipython-input-76-25774bc1b033>\"\u001b[0;36m, line \u001b[0;32m19\u001b[0m\n\u001b[0;31m    [x, x**2 for x in range(6)]\u001b[0m\n\u001b[0m               ^\u001b[0m\n\u001b[0;31mSyntaxError\u001b[0m\u001b[0;31m:\u001b[0m invalid syntax\n"
     ]
    }
   ],
   "source": [
    ">>> vec = [-4, -2, 0, 2, 4]\n",
    ">>> # Créé une nouvelle liste avec des valeurs doublé\n",
    ">>> [x*2 for x in vec]\n",
    "[-8, -4, 0, 4, 8]\n",
    ">>> # Filtre la liste pour exclure les nombres négatifs\n",
    ">>> [x for x in vec if x >= 0]\n",
    "[0, 2, 4]\n",
    ">>> # Applique une fonction à tous les éléments\n",
    ">>> [abs(x) for x in vec]\n",
    "[4, 2, 0, 2, 4]\n",
    ">>> # Appel la methode sur chaque éléments\n",
    ">>> freshfruit = ['  banana', '  loganberry ', 'passion fruit  ']\n",
    ">>> [weapon.strip() for weapon in freshfruit]\n",
    "['banana', 'loganberry', 'passion fruit']\n",
    ">>> # Créé une liste de 2-tuples comme (number, square)\n",
    ">>> [(x, x**2) for x in range(6)]\n",
    "[(0, 0), (1, 1), (2, 4), (3, 9), (4, 16), (5, 25)]\n",
    ">>> # Le tuple doit être entre parenthèse, sinon une erreur est lévée\n",
    ">>> [x, x**2 for x in range(6)]"
   ]
  },
  {
   "cell_type": "code",
   "execution_count": null,
   "metadata": {
    "collapsed": false
   },
   "outputs": [],
   "source": [
    ">>> # Aplati une liste en utilisant un listcomp avec deux 'for'\n",
    ">>> vec = [[1,2,3], [4,5,6], [7,8,9]]\n",
    ">>> [num for elem in vec for num in elem]"
   ]
  },
  {
   "cell_type": "markdown",
   "metadata": {},
   "source": [
    "Les listes compréhensions peuvent contenir des expressions complexes et des fonctions imbriquées:"
   ]
  },
  {
   "cell_type": "code",
   "execution_count": null,
   "metadata": {
    "collapsed": true
   },
   "outputs": [],
   "source": [
    ">>> from math import pi\n",
    ">>> [str(round(pi, i)) for i in range(1, 6)]\n",
    "['3.1', '3.14', '3.142', '3.1416', '3.14159']"
   ]
  },
  {
   "cell_type": "markdown",
   "metadata": {},
   "source": [
    "# Les listes imbriquées de compréhensions\n",
    "L'expression initiale dans une liste de compréhension peut être n'importe quelle expression arbitraire, y compris une autre liste de compréhension.\n",
    "\n",
    "Considérons l'exemple suivant d'une matrice 3x4 implémentée comme une liste de 3 listes de longueur 4:"
   ]
  },
  {
   "cell_type": "code",
   "execution_count": null,
   "metadata": {
    "collapsed": true
   },
   "outputs": [],
   "source": [
    ">>> matrix = [\n",
    "...     [1, 2, 3, 4],\n",
    "...     [5, 6, 7, 8],\n",
    "...     [9, 10, 11, 12],\n",
    "... ]"
   ]
  },
  {
   "cell_type": "markdown",
   "metadata": {},
   "source": [
    "La liste suivante transposera les lignes et les colonnes"
   ]
  },
  {
   "cell_type": "code",
   "execution_count": null,
   "metadata": {
    "collapsed": false
   },
   "outputs": [],
   "source": [
    ">>> [[row[i] for row in matrix] for i in range(4)]"
   ]
  },
  {
   "cell_type": "markdown",
   "metadata": {},
   "source": [
    "Comme nous l'avons vu dans la section précédente, le listcomp imbriqué est évalué dans le contexte du for qui le suit, donc cet exemple est équivalent à:"
   ]
  },
  {
   "cell_type": "code",
   "execution_count": null,
   "metadata": {
    "collapsed": false
   },
   "outputs": [],
   "source": [
    ">>> transposed = []\n",
    ">>> for i in range(4):\n",
    "...     transposed.append([row[i] for row in matrix])\n",
    "...\n",
    ">>> transposed"
   ]
  },
  {
   "cell_type": "markdown",
   "metadata": {},
   "source": [
    "Qui, à son tour, est la même que:"
   ]
  },
  {
   "cell_type": "code",
   "execution_count": null,
   "metadata": {
    "collapsed": false
   },
   "outputs": [],
   "source": [
    ">>> transposed = []\n",
    ">>> for i in range(4):\n",
    "...     # Les 3 lignes suivantes implémentent une listcomp imbriqué\n",
    "...     transposed_row = []\n",
    "...     for row in matrix:\n",
    "...         transposed_row.append(row[i])\n",
    "...     transposed.append(transposed_row)\n",
    "...\n",
    ">>> transposed"
   ]
  },
  {
   "cell_type": "markdown",
   "metadata": {},
   "source": [
    "Dans le monde réel, on préférera les fonctions intégrées aux instructions de flux complexes. La fonction zip () ferait un excellent travail pour ce cas d'utilisation:"
   ]
  },
  {
   "cell_type": "code",
   "execution_count": null,
   "metadata": {
    "collapsed": false
   },
   "outputs": [],
   "source": [
    ">>> list(zip(*matrix))"
   ]
  },
  {
   "cell_type": "markdown",
   "metadata": {},
   "source": [
    "# Tuples et séquences\n",
    "Nous avons vu que les listes et les chaînes ont de nombreuses propriétés communes, telles que l'indexation et les opérations de découpage. Il s'agit de deux exemples de types de données de séquence (voir Types de séquences - liste, tuple, plage). Puisque Python est un langage évolutif, d'autres types de données de séquence peuvent être ajoutés. Il existe également un autre type de données de séquence standard: le tuple.\n",
    "\n",
    "Un tuple se compose d'un certain nombre de valeurs séparées par des virgules, par exemple"
   ]
  },
  {
   "cell_type": "code",
   "execution_count": null,
   "metadata": {
    "collapsed": false
   },
   "outputs": [],
   "source": [
    ">>> t = 12345, 54321, 'hello!'\n",
    ">>> t[0]"
   ]
  },
  {
   "cell_type": "code",
   "execution_count": null,
   "metadata": {
    "collapsed": false
   },
   "outputs": [],
   "source": [
    ">>> t"
   ]
  },
  {
   "cell_type": "code",
   "execution_count": null,
   "metadata": {
    "collapsed": false
   },
   "outputs": [],
   "source": [
    ">>> # Les tuples peuvent être imbriqué:\n",
    "... u = t, (1, 2, 3, 4, 5)\n",
    ">>> u"
   ]
  },
  {
   "cell_type": "code",
   "execution_count": null,
   "metadata": {
    "collapsed": false
   },
   "outputs": [],
   "source": [
    ">>> # Les tuple sont immuables:\n",
    "... t[0] = 88888"
   ]
  },
  {
   "cell_type": "code",
   "execution_count": null,
   "metadata": {
    "collapsed": true
   },
   "outputs": [],
   "source": [
    ">>> # Mais ils peuvent contenir des objets mutable:\n",
    "... v = ([1, 2, 3], [3, 2, 1])\n",
    ">>> v"
   ]
  },
  {
   "cell_type": "markdown",
   "metadata": {},
   "source": [
    "Comme vous le voyez, les tuples de sortie sont toujours entre parenthèses, de sorte que les tuples imbriqués soit interprétés correctement. Ils peuvent être entrés avec ou sans parenthèses entourant, bien que souvent des parenthèses soient nécessaires de toute façon (si le tuple fait partie d'une expression plus grande). Il n'est pas possible d'attribuer aux éléments individuels d'un tuple, mais il est possible de créer des tuples qui contiennent des objets mutables, tels que des listes.\n",
    "\n",
    "Bien que les tuples peuvent sembler similaires aux listes, ils sont souvent utilisés dans des situations différentes et à des fins différentes. Les tuples sont immuables et contiennent généralement une séquence hétérogène d'éléments qui sont accessibles via le déballage (voir plus loin dans cette section) ou l'indexation (ou même par attribut dans le cas de namedpleples). Les listes sont mutables, et leurs éléments sont généralement homogènes et sont accessibles par itération sur la liste.\n",
    "\n",
    "Un problème particulier est la construction de tuples contenant 0 ou 1 éléments: la syntaxe a quelques bizarreries supplémentaires pour les accommoder. Les tuples vides sont construits par une paire vide de parenthèses. Un tuple avec un élément est construit en suivant une valeur avec une virgule (il ne suffit pas d'entourer une seule valeur entre parenthèses). Moche, mais efficace. Par exemple:"
   ]
  },
  {
   "cell_type": "code",
   "execution_count": null,
   "metadata": {
    "collapsed": false
   },
   "outputs": [],
   "source": [
    ">>> empty = ()\n",
    ">>> singleton = 'hello',    # <-- notez la virgule\n",
    ">>> len(empty)"
   ]
  },
  {
   "cell_type": "code",
   "execution_count": null,
   "metadata": {
    "collapsed": false
   },
   "outputs": [],
   "source": [
    "len(singleton)"
   ]
  },
  {
   "cell_type": "code",
   "execution_count": null,
   "metadata": {
    "collapsed": false
   },
   "outputs": [],
   "source": [
    ">>> singleton"
   ]
  },
  {
   "cell_type": "markdown",
   "metadata": {},
   "source": [
    "La déclaration t = 12345, 54321, 'bonjour!' Est un exemple d'emballage de tuples: les valeurs 12345, 54321 et 'hello!' Sont emballés ensemble dans un tuple. L'inversion est également possible:"
   ]
  },
  {
   "cell_type": "code",
   "execution_count": null,
   "metadata": {
    "collapsed": true
   },
   "outputs": [],
   "source": [
    ">>> x, y, z = t"
   ]
  },
  {
   "cell_type": "markdown",
   "metadata": {},
   "source": [
    "C'est ce qu'on appelle, de façon appropriée, séquence de déballage et fonctionne pour n'importe quelle séquence sur le côté droit. Le déballage des séquences exige qu'il y ait autant de variables sur le côté gauche du signe égal que d'éléments dans la séquence. Notez que l'assignation multiple est vraiment juste une combinaison de l'emballage de tuple et déballage de séquence."
   ]
  },
  {
   "cell_type": "markdown",
   "metadata": {},
   "source": [
    "# Les sets\n",
    "Python inclut également un type de données pour les ensembles. Un ensemble est une collection non ordonnée sans éléments dupliqués. Les utilisations de base comprennent les tests d'adhésion et l'élimination des entrées en double. Les objets définis prennent également en charge des opérations mathématiques telles que l'union, l'intersection, la différence et la différence symétrique.\n",
    "\n",
    "Les accolades ou la fonction set () peuvent être utilisées pour créer des ensembles.\n",
    "Remarque: pour créer un jeu vide, vous devez utiliser set (), not {}; Ce dernier crée un dictionnaire vide, une structure de données dont nous discuterons dans la section suivante.\n",
    "\n",
    "Voici une brève démonstration:"
   ]
  },
  {
   "cell_type": "code",
   "execution_count": null,
   "metadata": {
    "collapsed": false
   },
   "outputs": [],
   "source": [
    ">>> basket = {'apple', 'orange', 'apple', 'pear', 'orange', 'banana'}\n",
    ">>> print(basket)  "
   ]
  },
  {
   "cell_type": "code",
   "execution_count": null,
   "metadata": {
    "collapsed": false
   },
   "outputs": [],
   "source": [
    ">>> 'orange' in basket "
   ]
  },
  {
   "cell_type": "code",
   "execution_count": null,
   "metadata": {
    "collapsed": false
   },
   "outputs": [],
   "source": [
    ">>> 'crabgrass' in basket"
   ]
  },
  {
   "cell_type": "code",
   "execution_count": null,
   "metadata": {
    "collapsed": false
   },
   "outputs": [],
   "source": [
    ">>> # Démontre des opérations sur des lettres uniques à partir de deux mots\n",
    "...\n",
    ">>> a = set('abracadabra')\n",
    ">>> b = set('alacazam')\n",
    ">>> a      "
   ]
  },
  {
   "cell_type": "code",
   "execution_count": null,
   "metadata": {
    "collapsed": false
   },
   "outputs": [],
   "source": [
    ">>> a - b                              # Les lettres dans a mais pas dans b"
   ]
  },
  {
   "cell_type": "code",
   "execution_count": null,
   "metadata": {
    "collapsed": true
   },
   "outputs": [],
   "source": [
    ">>> a | b                              # lettres ni dans a ou b"
   ]
  },
  {
   "cell_type": "code",
   "execution_count": null,
   "metadata": {
    "collapsed": true
   },
   "outputs": [],
   "source": [
    ">>> a & b                              # lettres dans a et b"
   ]
  },
  {
   "cell_type": "code",
   "execution_count": null,
   "metadata": {
    "collapsed": true
   },
   "outputs": [],
   "source": [
    ">>> a ^ b                              # lettres dans a ou b mais pas dans les deux"
   ]
  },
  {
   "cell_type": "markdown",
   "metadata": {},
   "source": [
    "De la même manière que pour la liste des compréhensions, les ensembles de compréhensions sont également pris en charge:"
   ]
  },
  {
   "cell_type": "code",
   "execution_count": null,
   "metadata": {
    "collapsed": false
   },
   "outputs": [],
   "source": [
    ">>> a = {x for x in 'abracadabra' if x not in 'abc'}\n",
    ">>> a"
   ]
  },
  {
   "cell_type": "markdown",
   "metadata": {},
   "source": [
    "# Les dictionnaires\n",
    "Un autre type de données utile intégré à Python est le dictionnaire (voir Types de mappage - dict). Les dictionnaires sont parfois trouvés dans d'autres langues comme «mémoires associatives» ou «tableaux associatifs». Contrairement aux séquences, qui sont indexées par une plage de nombres, les dictionnaires sont indexés par des clés, qui peuvent être n'importe quel type immuable; Les chaînes et les nombres peuvent toujours être des clés. Les tuples peuvent être utilisés comme des clés si elles ne contiennent que des chaînes, des nombres ou des tuples; Si un tuple contient un objet mutable directement ou indirectement, il ne peut pas être utilisé comme clé. Vous ne pouvez pas utiliser les listes comme clés, car les listes peuvent être modifiées en place à l'aide d'affectations d'index, d'affectations de tranches ou de méthodes comme append () et extend ().\n",
    "\n",
    "Il est préférable de penser à un dictionnaire comme un ensemble non désordonné de paires clé: valeur, avec l'exigence que les clés sont uniques (dans un dictionnaire). Une paire d'accolades crée un dictionnaire vide: {}. Placer une liste séparée par des virgules de paires clé: valeur dans les accolades ajoute des paires clé: valeur au dictionnaire. C'est aussi la façon dont les dictionnaires sont écrits à la sortie.\n",
    "\n",
    "Les principales opérations sur un dictionnaire sont stocker une valeur avec une certaine clé et d'extraire la valeur donnée la clé. Il est également possible de supprimer une paire clé: valeur avec del. Si vous stockez en utilisant une clé déjà utilisée, l'ancienne valeur associée à cette clé est oubliée. Il s'agit d'une erreur pour extraire une valeur à l'aide d'une clé inexistante.\n",
    "\n",
    "La liste d'exécution (d.keys ()) sur un dictionnaire retourne une liste de toutes les clés utilisées dans le dictionnaire, dans un ordre arbitraire (si vous voulez trier, il suffit d'utiliser trié (d.keys ())). [2] Pour vérifier si une seule clé est dans le dictionnaire, utilisez le mot clé \"in\".\n",
    "\n",
    "Voici un petit exemple utilisant un dictionnaire:"
   ]
  },
  {
   "cell_type": "code",
   "execution_count": null,
   "metadata": {
    "collapsed": false
   },
   "outputs": [],
   "source": [
    ">>> tel = {'jack': 4098, 'sape': 4139}\n",
    ">>> tel['guido'] = 4127\n",
    ">>> tel"
   ]
  },
  {
   "cell_type": "code",
   "execution_count": null,
   "metadata": {
    "collapsed": false
   },
   "outputs": [],
   "source": [
    ">>> tel['jack']"
   ]
  },
  {
   "cell_type": "markdown",
   "metadata": {},
   "source": [
    ">>> del tel['sape']\n",
    ">>> tel['irv'] = 4127\n",
    ">>> tel"
   ]
  },
  {
   "cell_type": "code",
   "execution_count": null,
   "metadata": {
    "collapsed": false
   },
   "outputs": [],
   "source": [
    ">>> list(tel.keys())"
   ]
  },
  {
   "cell_type": "code",
   "execution_count": null,
   "metadata": {
    "collapsed": false
   },
   "outputs": [],
   "source": [
    ">>> sorted(tel.keys())"
   ]
  },
  {
   "cell_type": "code",
   "execution_count": null,
   "metadata": {
    "collapsed": false
   },
   "outputs": [],
   "source": [
    ">>> 'guido' in tel"
   ]
  },
  {
   "cell_type": "code",
   "execution_count": null,
   "metadata": {
    "collapsed": false
   },
   "outputs": [],
   "source": [
    ">>> 'jack' not in tel"
   ]
  },
  {
   "cell_type": "markdown",
   "metadata": {},
   "source": [
    "Le constructeur dict () construit des dictionnaires directement à partir de séquences de paires clé-valeur:"
   ]
  },
  {
   "cell_type": "code",
   "execution_count": null,
   "metadata": {
    "collapsed": false
   },
   "outputs": [],
   "source": [
    ">>> {x: x**2 for x in (2, 4, 6)}"
   ]
  },
  {
   "cell_type": "markdown",
   "metadata": {},
   "source": [
    "Lorsque les clés sont des chaînes simples, il est parfois plus facile de spécifier des paires en utilisant des arguments de mots clés:"
   ]
  },
  {
   "cell_type": "code",
   "execution_count": null,
   "metadata": {
    "collapsed": false
   },
   "outputs": [],
   "source": [
    ">>> dict(sape=4139, guido=4127, jack=4098)"
   ]
  },
  {
   "cell_type": "markdown",
   "metadata": {},
   "source": [
    "# Référence\n",
    "\n",
    "https://docs.python.org/3.3/tutorial/datastructures.html"
   ]
  }
 ],
 "metadata": {
  "anaconda-cloud": {},
  "kernelspec": {
   "display_name": "Python [default]",
   "language": "python",
   "name": "python3"
  },
  "language_info": {
   "codemirror_mode": {
    "name": "ipython",
    "version": 3
   },
   "file_extension": ".py",
   "mimetype": "text/x-python",
   "name": "python",
   "nbconvert_exporter": "python",
   "pygments_lexer": "ipython3",
   "version": "3.5.2"
  }
 },
 "nbformat": 4,
 "nbformat_minor": 1
}
