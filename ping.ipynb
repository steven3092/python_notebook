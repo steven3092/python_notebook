{
 "cells": [
  {
   "cell_type": "code",
   "execution_count": 1,
   "metadata": {
    "collapsed": true
   },
   "outputs": [],
   "source": [
    "import pandas as pd\n",
    "import numpy as np\n",
    "import csv"
   ]
  },
  {
   "cell_type": "code",
   "execution_count": 2,
   "metadata": {
    "collapsed": false
   },
   "outputs": [
    {
     "data": {
      "text/plain": [
       "Index                                               Valeurs\n",
       "BDTN                             Big Data pour le numérique\n",
       "IA-IR        Ingénirie d'affaires - Informatique et réseaux\n",
       "ASR                    Architecture et sécurité des réseaux\n",
       "GET                           Génie Electrique et Transport\n",
       "ICOM                                     Ingénierie Télécom\n",
       "ESAA      ÉLECTRONIQUE DES SYSTÈMES POUR L’AUTOMOBILE ET...\n",
       "ARI                  Automatique et Robotique Industrielle \n",
       "EDD                       Énergies et Développement Durable\n",
       "IA-DES    Ingénieur d’Affaires – Distribution d’Energie ...\n",
       "IF                                        Ingénieur Finance\n",
       "ISN                    Ingénierie des Services du Numérique\n",
       "ISE-OC    Ingénierie des systèmes embarqués - objets con...\n",
       "ISYMED                     Ingénierie des systèmes médicaux\n",
       "ISE-VA    Ingénierie des systèmes embarqués - véhicule a...\n",
       "dtype: object"
      ]
     },
     "execution_count": 2,
     "metadata": {},
     "output_type": "execute_result"
    }
   ],
   "source": [
    "dict1 = {\"Index\" : \"Valeurs\",\n",
    "       \"BDTN\" : \"Big Data pour le numérique\",\n",
    "       \"IA-IR\" :  \"Ingénirie d'affaires - Informatique et réseaux\",\n",
    "       \"ASR\" : \"Architecture et sécurité des réseaux\",\n",
    "       \"GET\" :  \"Génie Electrique et Transport\",\n",
    "        \"ICOM\" : \"Ingénierie Télécom\",\n",
    "        \"ESAA\" : \"ÉLECTRONIQUE DES SYSTÈMES POUR L’AUTOMOBILE ET L’AÉRONAUTIQUE\",\n",
    "        \"ARI\" : \"Automatique et Robotique Industrielle \",\n",
    "        \"EDD\" : \"Énergies et Développement Durable\",\n",
    "        \"IA-DES\" : \"Ingénieur d’Affaires – Distribution d’Energie et Signaux\",\n",
    "         \"IF\" : \"Ingénieur Finance\",\n",
    "         \"ISN\" : \"Ingénierie des Services du Numérique\",\n",
    "         \"ISE-OC\" : \"Ingénierie des systèmes embarqués - objets connecté\",\n",
    "        \"ISYMED\" : \"Ingénierie des systèmes médicaux\",\n",
    "        \"ISE-VA\" : \"Ingénierie des systèmes embarqués - véhicule autonome\"}\n",
    "s1 = pd.Series(dict1, index=[\"Index\",\n",
    "                             \"BDTN\",\n",
    "                             \"IA-IR\",\n",
    "                             \"ASR\",\n",
    "                             \"GET\",\n",
    "                             \"ICOM\",\n",
    "                             \"ESAA\",\n",
    "                             \"ARI\",\n",
    "                             \"EDD\",\n",
    "                             \"IA-DES\",\n",
    "                             \"IF\",\n",
    "                             \"ISN\",\n",
    "                             \"ISE-OC\",\n",
    "                            \"ISYMED\",\n",
    "                            \"ISE-VA\"])\n",
    "s1\n",
    "\n"
   ]
  },
  {
   "cell_type": "code",
   "execution_count": 3,
   "metadata": {
    "collapsed": false
   },
   "outputs": [
    {
     "data": {
      "text/plain": [
       "Index     Departement\n",
       "BDTN              TIC\n",
       "IA-IR             TIC\n",
       "ASR               TIC\n",
       "GET               GEE\n",
       "ICOM               ET\n",
       "ESAA               ET\n",
       "ARI               GEE\n",
       "EDD               GEE\n",
       "IA-DES            GEE\n",
       "IF                TIC\n",
       "ISN               TIC\n",
       "ISE-OC            SEI\n",
       "ISYMED            SEI\n",
       "ISE-VA            SEI\n",
       "dtype: object"
      ]
     },
     "execution_count": 3,
     "metadata": {},
     "output_type": "execute_result"
    }
   ],
   "source": [
    "dict2 = {\"Index\" :\"Departement\",\n",
    "        \"BDTN\" :\"TIC\",\n",
    "        \"IA-IR\" :\"TIC\",\n",
    "        \"ASR\" :\"TIC\",\n",
    "         \"GET\" :\"GEE\",\n",
    "         \"ICOM\" : \"ET\",\n",
    "         \"ESAA\" : \"ET\",\n",
    "         \"ARI\" : \"GEE\",\n",
    "         \"EDD\" : \"GEE\",\n",
    "         \"IA-DES\" : \"GEE\",\n",
    "         \"IF\" : \"TIC\",\n",
    "         \"ISN\" : \"TIC\",\n",
    "         \"ISE-OC\" : \"SEI\",\n",
    "         \"ISYMED\" : \"SEI\",\n",
    "         \"ISE-VA\" : \"SEI\"}\n",
    "s2 = pd.Series(dict2, index=[\"Index\", \n",
    "                             \"BDTN\",\n",
    "                             \"IA-IR\",\n",
    "                             \"ASR\",\n",
    "                             \"GET\",\n",
    "                             \"ICOM\",\n",
    "                             \"ESAA\",\n",
    "                             \"ARI\",\n",
    "                             \"EDD\",\n",
    "                             \"IA-DES\",\n",
    "                             \"IF\",\n",
    "                             \"ISN\",\n",
    "                             \"ISE-OC\",\n",
    "                            \"ISYMED\",\n",
    "                            \"ISE-VA\"])\n",
    "s2"
   ]
  },
  {
   "cell_type": "code",
   "execution_count": 4,
   "metadata": {
    "collapsed": false
   },
   "outputs": [
    {
     "data": {
      "text/html": [
       "<div>\n",
       "<table border=\"1\" class=\"dataframe\">\n",
       "  <thead>\n",
       "    <tr style=\"text-align: right;\">\n",
       "      <th></th>\n",
       "      <th>0</th>\n",
       "      <th>1</th>\n",
       "    </tr>\n",
       "  </thead>\n",
       "  <tbody>\n",
       "    <tr>\n",
       "      <th>Index</th>\n",
       "      <td>Valeurs</td>\n",
       "      <td>Departement</td>\n",
       "    </tr>\n",
       "    <tr>\n",
       "      <th>BDTN</th>\n",
       "      <td>Big Data pour le numérique</td>\n",
       "      <td>TIC</td>\n",
       "    </tr>\n",
       "    <tr>\n",
       "      <th>IA-IR</th>\n",
       "      <td>Ingénirie d'affaires - Informatique et réseaux</td>\n",
       "      <td>TIC</td>\n",
       "    </tr>\n",
       "    <tr>\n",
       "      <th>ASR</th>\n",
       "      <td>Architecture et sécurité des réseaux</td>\n",
       "      <td>TIC</td>\n",
       "    </tr>\n",
       "    <tr>\n",
       "      <th>GET</th>\n",
       "      <td>Génie Electrique et Transport</td>\n",
       "      <td>GEE</td>\n",
       "    </tr>\n",
       "    <tr>\n",
       "      <th>ICOM</th>\n",
       "      <td>Ingénierie Télécom</td>\n",
       "      <td>ET</td>\n",
       "    </tr>\n",
       "    <tr>\n",
       "      <th>ESAA</th>\n",
       "      <td>ÉLECTRONIQUE DES SYSTÈMES POUR L’AUTOMOBILE ET...</td>\n",
       "      <td>ET</td>\n",
       "    </tr>\n",
       "    <tr>\n",
       "      <th>ARI</th>\n",
       "      <td>Automatique et Robotique Industrielle</td>\n",
       "      <td>GEE</td>\n",
       "    </tr>\n",
       "    <tr>\n",
       "      <th>EDD</th>\n",
       "      <td>Énergies et Développement Durable</td>\n",
       "      <td>GEE</td>\n",
       "    </tr>\n",
       "    <tr>\n",
       "      <th>IA-DES</th>\n",
       "      <td>Ingénieur d’Affaires – Distribution d’Energie ...</td>\n",
       "      <td>GEE</td>\n",
       "    </tr>\n",
       "    <tr>\n",
       "      <th>IF</th>\n",
       "      <td>Ingénieur Finance</td>\n",
       "      <td>TIC</td>\n",
       "    </tr>\n",
       "    <tr>\n",
       "      <th>ISN</th>\n",
       "      <td>Ingénierie des Services du Numérique</td>\n",
       "      <td>TIC</td>\n",
       "    </tr>\n",
       "    <tr>\n",
       "      <th>ISE-OC</th>\n",
       "      <td>Ingénierie des systèmes embarqués - objets con...</td>\n",
       "      <td>SEI</td>\n",
       "    </tr>\n",
       "    <tr>\n",
       "      <th>ISYMED</th>\n",
       "      <td>Ingénierie des systèmes médicaux</td>\n",
       "      <td>SEI</td>\n",
       "    </tr>\n",
       "    <tr>\n",
       "      <th>ISE-VA</th>\n",
       "      <td>Ingénierie des systèmes embarqués - véhicule a...</td>\n",
       "      <td>SEI</td>\n",
       "    </tr>\n",
       "  </tbody>\n",
       "</table>\n",
       "</div>"
      ],
      "text/plain": [
       "                                                        0            1\n",
       "Index                                             Valeurs  Departement\n",
       "BDTN                           Big Data pour le numérique          TIC\n",
       "IA-IR      Ingénirie d'affaires - Informatique et réseaux          TIC\n",
       "ASR                  Architecture et sécurité des réseaux          TIC\n",
       "GET                         Génie Electrique et Transport          GEE\n",
       "ICOM                                   Ingénierie Télécom           ET\n",
       "ESAA    ÉLECTRONIQUE DES SYSTÈMES POUR L’AUTOMOBILE ET...           ET\n",
       "ARI                Automatique et Robotique Industrielle           GEE\n",
       "EDD                     Énergies et Développement Durable          GEE\n",
       "IA-DES  Ingénieur d’Affaires – Distribution d’Energie ...          GEE\n",
       "IF                                      Ingénieur Finance          TIC\n",
       "ISN                  Ingénierie des Services du Numérique          TIC\n",
       "ISE-OC  Ingénierie des systèmes embarqués - objets con...          SEI\n",
       "ISYMED                   Ingénierie des systèmes médicaux          SEI\n",
       "ISE-VA  Ingénierie des systèmes embarqués - véhicule a...          SEI"
      ]
     },
     "execution_count": 4,
     "metadata": {},
     "output_type": "execute_result"
    }
   ],
   "source": [
    "d1 = pd.DataFrame([s1, s2]).T\n",
    "d1"
   ]
  },
  {
   "cell_type": "code",
   "execution_count": 5,
   "metadata": {
    "collapsed": false
   },
   "outputs": [
    {
     "data": {
      "text/html": [
       "<div>\n",
       "<table border=\"1\" class=\"dataframe\">\n",
       "  <thead>\n",
       "    <tr style=\"text-align: right;\">\n",
       "      <th></th>\n",
       "      <th>index</th>\n",
       "      <th>number</th>\n",
       "      <th>nom</th>\n",
       "      <th>prenom</th>\n",
       "      <th>Département</th>\n",
       "    </tr>\n",
       "  </thead>\n",
       "  <tbody>\n",
       "    <tr>\n",
       "      <th>0</th>\n",
       "      <td>BDTN</td>\n",
       "      <td>1</td>\n",
       "      <td>Fauterre</td>\n",
       "      <td>Steven</td>\n",
       "      <td>Big Data pour le numérique</td>\n",
       "    </tr>\n",
       "    <tr>\n",
       "      <th>1</th>\n",
       "      <td>IA-IR</td>\n",
       "      <td>1</td>\n",
       "      <td>Xau</td>\n",
       "      <td>Noel</td>\n",
       "      <td>Ingénirie d'affaires - Informatique et réseaux</td>\n",
       "    </tr>\n",
       "    <tr>\n",
       "      <th>2</th>\n",
       "      <td>IA-IR</td>\n",
       "      <td>1</td>\n",
       "      <td>Arezki</td>\n",
       "      <td>Sabri</td>\n",
       "      <td>Ingénirie d'affaires - Informatique et réseaux</td>\n",
       "    </tr>\n",
       "    <tr>\n",
       "      <th>3</th>\n",
       "      <td>GEE</td>\n",
       "      <td>1</td>\n",
       "      <td>Caerou</td>\n",
       "      <td>Jérome</td>\n",
       "      <td>Génie Electrique et Transport</td>\n",
       "    </tr>\n",
       "    <tr>\n",
       "      <th>4</th>\n",
       "      <td>GEE</td>\n",
       "      <td>1</td>\n",
       "      <td>Cothias</td>\n",
       "      <td>Victor</td>\n",
       "      <td>Génie Electrique et Transport</td>\n",
       "    </tr>\n",
       "    <tr>\n",
       "      <th>5</th>\n",
       "      <td>ASR</td>\n",
       "      <td>1</td>\n",
       "      <td>Buchwald</td>\n",
       "      <td>Romain</td>\n",
       "      <td>Architecture et sécurité des réseaux</td>\n",
       "    </tr>\n",
       "  </tbody>\n",
       "</table>\n",
       "</div>"
      ],
      "text/plain": [
       "    index number        nom   prenom  \\\n",
       "0   BDTN       1  Fauterre   Steven    \n",
       "1  IA-IR       1       Xau     Noel    \n",
       "2  IA-IR       1    Arezki    Sabri    \n",
       "3    GEE       1    Caerou   Jérome    \n",
       "4    GEE       1   Cothias    Victor   \n",
       "5    ASR       1  Buchwald    Romain   \n",
       "\n",
       "                                       Département  \n",
       "0                      Big Data pour le numérique   \n",
       "1  Ingénirie d'affaires - Informatique et réseaux   \n",
       "2  Ingénirie d'affaires - Informatique et réseaux   \n",
       "3                   Génie Electrique et Transport   \n",
       "4                   Génie Electrique et Transport   \n",
       "5            Architecture et sécurité des réseaux   "
      ]
     },
     "execution_count": 5,
     "metadata": {},
     "output_type": "execute_result"
    }
   ],
   "source": [
    "ping = pd.DataFrame({'nom' : pd.Categorical(['Fauterre ', 'Xau ', 'Arezki ', 'Caerou ', 'Cothias ', 'Buchwald ']),\n",
    "                    'prenom' : pd.Categorical(['Steven ', 'Noel ', 'Sabri ', 'Jérome ', 'Victor', 'Romain']),\n",
    "                    'index' : pd.Categorical(['BDTN ', 'IA-IR ', 'IA-IR ', 'GEE ', 'GEE ', 'ASR ']),\n",
    "                     'Département' : pd.Categorical([\"Big Data pour le numérique \", \n",
    "                                                     \"Ingénirie d'affaires - Informatique et réseaux \",\n",
    "                                                     \"Ingénirie d'affaires - Informatique et réseaux \",\n",
    "                                                    \"Génie Electrique et Transport \",\n",
    "                                                    \"Génie Electrique et Transport \",\n",
    "                                                    \"Architecture et sécurité des réseaux \"]),\n",
    "                    'number' : pd.Categorical([1,1,1,1,1,1])}, columns=['index', 'number', 'nom', 'prenom', 'Département'])\n",
    "ping"
   ]
  },
  {
   "cell_type": "code",
   "execution_count": 6,
   "metadata": {
    "collapsed": false
   },
   "outputs": [
    {
     "data": {
      "text/html": [
       "<div>\n",
       "<table border=\"1\" class=\"dataframe\">\n",
       "  <thead>\n",
       "    <tr style=\"text-align: right;\">\n",
       "      <th></th>\n",
       "      <th>index</th>\n",
       "      <th>number</th>\n",
       "      <th>nom</th>\n",
       "      <th>prenom</th>\n",
       "    </tr>\n",
       "  </thead>\n",
       "  <tbody>\n",
       "    <tr>\n",
       "      <th>Architecture et sécurité des réseaux</th>\n",
       "      <td>ASR</td>\n",
       "      <td>1</td>\n",
       "      <td>Buchwald</td>\n",
       "      <td>Romain</td>\n",
       "    </tr>\n",
       "    <tr>\n",
       "      <th>Big Data pour le numérique</th>\n",
       "      <td>BDTN</td>\n",
       "      <td>1</td>\n",
       "      <td>Fauterre</td>\n",
       "      <td>Steven</td>\n",
       "    </tr>\n",
       "    <tr>\n",
       "      <th>Génie Electrique et Transport</th>\n",
       "      <td>GEE GEE</td>\n",
       "      <td>2</td>\n",
       "      <td>Caerou Cothias</td>\n",
       "      <td>Jérome Victor</td>\n",
       "    </tr>\n",
       "    <tr>\n",
       "      <th>Ingénirie d'affaires - Informatique et réseaux</th>\n",
       "      <td>IA-IR IA-IR</td>\n",
       "      <td>2</td>\n",
       "      <td>Xau Arezki</td>\n",
       "      <td>Noel Sabri</td>\n",
       "    </tr>\n",
       "  </tbody>\n",
       "</table>\n",
       "</div>"
      ],
      "text/plain": [
       "                                                        index  number  \\\n",
       "Architecture et sécurité des réseaux                     ASR        1   \n",
       "Big Data pour le numérique                              BDTN        1   \n",
       "Génie Electrique et Transport                        GEE GEE        2   \n",
       "Ingénirie d'affaires - Informatique et réseaux   IA-IR IA-IR        2   \n",
       "\n",
       "                                                             nom  \\\n",
       "Architecture et sécurité des réseaux                   Buchwald    \n",
       "Big Data pour le numérique                             Fauterre    \n",
       "Génie Electrique et Transport                    Caerou Cothias    \n",
       "Ingénirie d'affaires - Informatique et réseaux       Xau Arezki    \n",
       "\n",
       "                                                        prenom  \n",
       "Architecture et sécurité des réseaux                    Romain  \n",
       "Big Data pour le numérique                             Steven   \n",
       "Génie Electrique et Transport                    Jérome Victor  \n",
       "Ingénirie d'affaires - Informatique et réseaux     Noel Sabri   "
      ]
     },
     "execution_count": 6,
     "metadata": {},
     "output_type": "execute_result"
    }
   ],
   "source": [
    "data_group = ping.groupby('Département').sum()\n",
    "data_group\n"
   ]
  },
  {
   "cell_type": "code",
   "execution_count": 7,
   "metadata": {
    "collapsed": false,
    "scrolled": true
   },
   "outputs": [
    {
     "data": {
      "text/plain": [
       "6"
      ]
     },
     "execution_count": 7,
     "metadata": {},
     "output_type": "execute_result"
    }
   ],
   "source": [
    "total = np.sum(data_group['number'])\n",
    "total"
   ]
  },
  {
   "cell_type": "code",
   "execution_count": 8,
   "metadata": {
    "collapsed": false
   },
   "outputs": [
    {
     "data": {
      "text/html": [
       "<div>\n",
       "<table border=\"1\" class=\"dataframe\">\n",
       "  <thead>\n",
       "    <tr style=\"text-align: right;\">\n",
       "      <th></th>\n",
       "      <th>index</th>\n",
       "      <th>number</th>\n",
       "      <th>nom</th>\n",
       "      <th>prenom</th>\n",
       "      <th>percent</th>\n",
       "    </tr>\n",
       "  </thead>\n",
       "  <tbody>\n",
       "    <tr>\n",
       "      <th>Architecture et sécurité des réseaux</th>\n",
       "      <td>ASR</td>\n",
       "      <td>1</td>\n",
       "      <td>Buchwald</td>\n",
       "      <td>Romain</td>\n",
       "      <td>16.666667</td>\n",
       "    </tr>\n",
       "    <tr>\n",
       "      <th>Big Data pour le numérique</th>\n",
       "      <td>BDTN</td>\n",
       "      <td>1</td>\n",
       "      <td>Fauterre</td>\n",
       "      <td>Steven</td>\n",
       "      <td>16.666667</td>\n",
       "    </tr>\n",
       "    <tr>\n",
       "      <th>Génie Electrique et Transport</th>\n",
       "      <td>GEE GEE</td>\n",
       "      <td>2</td>\n",
       "      <td>Caerou Cothias</td>\n",
       "      <td>Jérome Victor</td>\n",
       "      <td>33.333333</td>\n",
       "    </tr>\n",
       "    <tr>\n",
       "      <th>Ingénirie d'affaires - Informatique et réseaux</th>\n",
       "      <td>IA-IR IA-IR</td>\n",
       "      <td>2</td>\n",
       "      <td>Xau Arezki</td>\n",
       "      <td>Noel Sabri</td>\n",
       "      <td>33.333333</td>\n",
       "    </tr>\n",
       "  </tbody>\n",
       "</table>\n",
       "</div>"
      ],
      "text/plain": [
       "                                                        index  number  \\\n",
       "Architecture et sécurité des réseaux                     ASR        1   \n",
       "Big Data pour le numérique                              BDTN        1   \n",
       "Génie Electrique et Transport                        GEE GEE        2   \n",
       "Ingénirie d'affaires - Informatique et réseaux   IA-IR IA-IR        2   \n",
       "\n",
       "                                                             nom  \\\n",
       "Architecture et sécurité des réseaux                   Buchwald    \n",
       "Big Data pour le numérique                             Fauterre    \n",
       "Génie Electrique et Transport                    Caerou Cothias    \n",
       "Ingénirie d'affaires - Informatique et réseaux       Xau Arezki    \n",
       "\n",
       "                                                        prenom    percent  \n",
       "Architecture et sécurité des réseaux                    Romain  16.666667  \n",
       "Big Data pour le numérique                             Steven   16.666667  \n",
       "Génie Electrique et Transport                    Jérome Victor  33.333333  \n",
       "Ingénirie d'affaires - Informatique et réseaux     Noel Sabri   33.333333  "
      ]
     },
     "execution_count": 8,
     "metadata": {},
     "output_type": "execute_result"
    }
   ],
   "source": [
    "data_group['percent'] = data_group['number']/total * 100\n",
    "data_group"
   ]
  },
  {
   "cell_type": "code",
   "execution_count": 9,
   "metadata": {
    "collapsed": false
   },
   "outputs": [],
   "source": [
    "data_group.to_csv(\"ping.csv\", sep=';')"
   ]
  },
  {
   "cell_type": "markdown",
   "metadata": {},
   "source": [
    "# Exrcice 2 séance 3"
   ]
  },
  {
   "cell_type": "code",
   "execution_count": 10,
   "metadata": {
    "collapsed": true
   },
   "outputs": [],
   "source": [
    "import matplotlib.pyplot as plt"
   ]
  },
  {
   "cell_type": "markdown",
   "metadata": {},
   "source": [
    "Utilisez matplotlib pour générer deux visualisations différentes de la répartition de votre groupe de PING :\n",
    "- sous forme de diagramme en barres"
   ]
  },
  {
   "cell_type": "code",
   "execution_count": 39,
   "metadata": {
    "collapsed": false
   },
   "outputs": [
    {
     "data": {
      "image/png": "[encoded data removed]",
      "text/plain": [
       "<matplotlib.figure.Figure at 0x9cf96a0>"
      ]
     },
     "metadata": {},
     "output_type": "display_data"
    }
   ],
   "source": [
    "ax = data_group['percent'].plot(kind = \"bar\", figsize=(18,6))\n",
    "ax.set_xlabel(\"Départements\", fontsize=16)\n",
    "ax.set_ylabel(\"Pourcentage\", fontsize=16)\n",
    "plt.show()"
   ]
  },
  {
   "cell_type": "markdown",
   "metadata": {},
   "source": [
    "- sous forme de camembert"
   ]
  },
  {
   "cell_type": "code",
   "execution_count": 47,
   "metadata": {
    "collapsed": false
   },
   "outputs": [
    {
     "data": {
      "image/png": "[encoded data removed]",
      "text/plain": [
       "<matplotlib.figure.Figure at 0x9c9e978>"
      ]
     },
     "metadata": {},
     "output_type": "display_data"
    }
   ],
   "source": [
    "ax = data_group['percent'].plot(kind = \"pie\", figsize=(10,9))\n",
    "plt.show()"
   ]
  }
 ],
 "metadata": {
  "anaconda-cloud": {},
  "kernelspec": {
   "display_name": "Python [default]",
   "language": "python",
   "name": "python3"
  },
  "language_info": {
   "codemirror_mode": {
    "name": "ipython",
    "version": 3
   },
   "file_extension": ".py",
   "mimetype": "text/x-python",
   "name": "python",
   "nbconvert_exporter": "python",
   "pygments_lexer": "ipython3",
   "version": "3.5.2"
  }
 },
 "nbformat": 4,
 "nbformat_minor": 1
}
